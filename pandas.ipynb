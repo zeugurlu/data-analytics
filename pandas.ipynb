{
 "cells": [
  {
   "metadata": {},
   "cell_type": "markdown",
   "source": "Pandas Notes",
   "id": "97873b0c72f8bd7e"
  },
  {
   "metadata": {
    "ExecuteTime": {
     "end_time": "2025-09-21T23:42:17.805096Z",
     "start_time": "2025-09-21T23:42:17.801138Z"
    }
   },
   "cell_type": "code",
   "source": "import pandas as pd",
   "id": "81452b76f1509b8b",
   "outputs": [],
   "execution_count": 80
  },
  {
   "metadata": {
    "ExecuteTime": {
     "end_time": "2025-09-21T23:42:17.831030Z",
     "start_time": "2025-09-21T23:42:17.828259Z"
    }
   },
   "cell_type": "code",
   "source": "print(pd.__version__)",
   "id": "19e56c5a23f4ffc7",
   "outputs": [
    {
     "name": "stdout",
     "output_type": "stream",
     "text": [
      "2.3.2\n"
     ]
    }
   ],
   "execution_count": 81
  },
  {
   "metadata": {
    "ExecuteTime": {
     "end_time": "2025-09-21T23:42:17.885587Z",
     "start_time": "2025-09-21T23:42:17.881888Z"
    }
   },
   "cell_type": "code",
   "source": [
    "mydata = {\n",
    "    \"name\" : \"zehra\",\n",
    "    \"age\" : 22,\n",
    "}\n",
    "mdt = pd.DataFrame([mydata])\n",
    "print(mdt)"
   ],
   "id": "262df21224002f45",
   "outputs": [
    {
     "name": "stdout",
     "output_type": "stream",
     "text": [
      "    name  age\n",
      "0  zehra   22\n"
     ]
    }
   ],
   "execution_count": 82
  },
  {
   "metadata": {},
   "cell_type": "markdown",
   "source": "Series is a 1-D array holding data of any data(like a column in a table)",
   "id": "263f86f47824c612"
  },
  {
   "metadata": {
    "ExecuteTime": {
     "end_time": "2025-09-21T23:42:17.901734Z",
     "start_time": "2025-09-21T23:42:17.898753Z"
    }
   },
   "cell_type": "code",
   "source": [
    "a = [1,7,2]\n",
    "\n",
    "newdata = pd.Series(a)\n",
    "print(newdata)\n",
    "print(newdata[0])\n",
    "\n",
    "newdata2 = pd.Series(a, index=[\"x\",\"y\",\"z\"])\n",
    "print(newdata2[\"x\"])"
   ],
   "id": "87bb86927893a58a",
   "outputs": [
    {
     "name": "stdout",
     "output_type": "stream",
     "text": [
      "0    1\n",
      "1    7\n",
      "2    2\n",
      "dtype: int64\n",
      "1\n",
      "1\n"
     ]
    }
   ],
   "execution_count": 83
  },
  {
   "metadata": {
    "ExecuteTime": {
     "end_time": "2025-09-21T23:42:17.914924Z",
     "start_time": "2025-09-21T23:42:17.911230Z"
    }
   },
   "cell_type": "code",
   "source": [
    "data = {\n",
    "  \"calories\": [420, 380, 390],\n",
    "  \"duration\": [50, 40, 45]\n",
    "}\n",
    "\n",
    "newdata3 = pd.DataFrame(data)\n",
    "print(newdata3.loc[[0,1]])\n",
    "print(newdata3.loc[0])"
   ],
   "id": "d00ed669ebf0e227",
   "outputs": [
    {
     "name": "stdout",
     "output_type": "stream",
     "text": [
      "   calories  duration\n",
      "0       420        50\n",
      "1       380        40\n",
      "calories    420\n",
      "duration     50\n",
      "Name: 0, dtype: int64\n"
     ]
    }
   ],
   "execution_count": 84
  },
  {
   "metadata": {
    "ExecuteTime": {
     "end_time": "2025-09-21T23:42:18.058971Z",
     "start_time": "2025-09-21T23:42:17.924703Z"
    }
   },
   "cell_type": "code",
   "source": [
    "df = pd.read_csv('Salaries.csv')\n",
    "print(df.head(1))\n",
    "print(df.tail(1))\n",
    "print(df.info())"
   ],
   "id": "1db0781d1a43d7d7",
   "outputs": [
    {
     "name": "stdout",
     "output_type": "stream",
     "text": [
      "   Id    EmployeeName                                        JobTitle  \\\n",
      "0   1  NATHANIEL FORD  GENERAL MANAGER-METROPOLITAN TRANSIT AUTHORITY   \n",
      "\n",
      "     BasePay  OvertimePay   OtherPay  Benefits   TotalPay  TotalPayBenefits  \\\n",
      "0  167411.18          0.0  400184.25       NaN  567595.43         567595.43   \n",
      "\n",
      "   Year  Notes         Agency  Status  \n",
      "0  2011    NaN  San Francisco     NaN  \n",
      "            Id EmployeeName                    JobTitle  BasePay  OvertimePay  \\\n",
      "148653  148654    Joe Lopez  Counselor, Log Cabin Ranch      0.0          0.0   \n",
      "\n",
      "        OtherPay  Benefits  TotalPay  TotalPayBenefits  Year  Notes  \\\n",
      "148653   -618.13       0.0   -618.13           -618.13  2014    NaN   \n",
      "\n",
      "               Agency  Status  \n",
      "148653  San Francisco     NaN  \n",
      "<class 'pandas.core.frame.DataFrame'>\n",
      "RangeIndex: 148654 entries, 0 to 148653\n",
      "Data columns (total 13 columns):\n",
      " #   Column            Non-Null Count   Dtype  \n",
      "---  ------            --------------   -----  \n",
      " 0   Id                148654 non-null  int64  \n",
      " 1   EmployeeName      148654 non-null  object \n",
      " 2   JobTitle          148654 non-null  object \n",
      " 3   BasePay           148045 non-null  float64\n",
      " 4   OvertimePay       148650 non-null  float64\n",
      " 5   OtherPay          148650 non-null  float64\n",
      " 6   Benefits          112491 non-null  float64\n",
      " 7   TotalPay          148654 non-null  float64\n",
      " 8   TotalPayBenefits  148654 non-null  float64\n",
      " 9   Year              148654 non-null  int64  \n",
      " 10  Notes             0 non-null       float64\n",
      " 11  Agency            148654 non-null  object \n",
      " 12  Status            0 non-null       float64\n",
      "dtypes: float64(8), int64(2), object(3)\n",
      "memory usage: 14.7+ MB\n",
      "None\n"
     ]
    }
   ],
   "execution_count": 85
  },
  {
   "metadata": {
    "ExecuteTime": {
     "end_time": "2025-09-21T23:42:18.098232Z",
     "start_time": "2025-09-21T23:42:18.065855Z"
    }
   },
   "cell_type": "code",
   "source": "print(df.describe())",
   "id": "4a4d8d21c324163",
   "outputs": [
    {
     "name": "stdout",
     "output_type": "stream",
     "text": [
      "                  Id        BasePay    OvertimePay       OtherPay  \\\n",
      "count  148654.000000  148045.000000  148650.000000  148650.000000   \n",
      "mean    74327.500000   66325.448840    5066.059886    3648.767297   \n",
      "std     42912.857795   42764.635495   11454.380559    8056.601866   \n",
      "min         1.000000    -166.010000      -0.010000   -7058.590000   \n",
      "25%     37164.250000   33588.200000       0.000000       0.000000   \n",
      "50%     74327.500000   65007.450000       0.000000     811.270000   \n",
      "75%    111490.750000   94691.050000    4658.175000    4236.065000   \n",
      "max    148654.000000  319275.010000  245131.880000  400184.250000   \n",
      "\n",
      "            Benefits       TotalPay  TotalPayBenefits           Year  Notes  \\\n",
      "count  112491.000000  148654.000000     148654.000000  148654.000000    0.0   \n",
      "mean    25007.893151   74768.321972      93692.554811    2012.522643    NaN   \n",
      "std     15402.215858   50517.005274      62793.533483       1.117538    NaN   \n",
      "min       -33.890000    -618.130000       -618.130000    2011.000000    NaN   \n",
      "25%     11535.395000   36168.995000      44065.650000    2012.000000    NaN   \n",
      "50%     28628.620000   71426.610000      92404.090000    2013.000000    NaN   \n",
      "75%     35566.855000  105839.135000     132876.450000    2014.000000    NaN   \n",
      "max     96570.660000  567595.430000     567595.430000    2014.000000    NaN   \n",
      "\n",
      "       Status  \n",
      "count     0.0  \n",
      "mean      NaN  \n",
      "std       NaN  \n",
      "min       NaN  \n",
      "25%       NaN  \n",
      "50%       NaN  \n",
      "75%       NaN  \n",
      "max       NaN  \n"
     ]
    }
   ],
   "execution_count": 86
  },
  {
   "metadata": {
    "ExecuteTime": {
     "end_time": "2025-09-21T23:42:18.108819Z",
     "start_time": "2025-09-21T23:42:18.106476Z"
    }
   },
   "cell_type": "code",
   "source": "df.shape",
   "id": "5eea432abf931786",
   "outputs": [
    {
     "data": {
      "text/plain": [
       "(148654, 13)"
      ]
     },
     "execution_count": 87,
     "metadata": {},
     "output_type": "execute_result"
    }
   ],
   "execution_count": 87
  },
  {
   "metadata": {
    "ExecuteTime": {
     "end_time": "2025-09-21T23:42:18.124552Z",
     "start_time": "2025-09-21T23:42:18.121958Z"
    }
   },
   "cell_type": "code",
   "source": "df.columns",
   "id": "a5f3fc6bf4343e4b",
   "outputs": [
    {
     "data": {
      "text/plain": [
       "Index(['Id', 'EmployeeName', 'JobTitle', 'BasePay', 'OvertimePay', 'OtherPay',\n",
       "       'Benefits', 'TotalPay', 'TotalPayBenefits', 'Year', 'Notes', 'Agency',\n",
       "       'Status'],\n",
       "      dtype='object')"
      ]
     },
     "execution_count": 88,
     "metadata": {},
     "output_type": "execute_result"
    }
   ],
   "execution_count": 88
  },
  {
   "metadata": {
    "ExecuteTime": {
     "end_time": "2025-09-21T23:42:18.138954Z",
     "start_time": "2025-09-21T23:42:18.136530Z"
    }
   },
   "cell_type": "code",
   "source": "df.index",
   "id": "fc6d5d5e52dd6083",
   "outputs": [
    {
     "data": {
      "text/plain": [
       "RangeIndex(start=0, stop=148654, step=1)"
      ]
     },
     "execution_count": 89,
     "metadata": {},
     "output_type": "execute_result"
    }
   ],
   "execution_count": 89
  },
  {
   "metadata": {
    "ExecuteTime": {
     "end_time": "2025-09-21T23:42:18.154828Z",
     "start_time": "2025-09-21T23:42:18.151981Z"
    }
   },
   "cell_type": "code",
   "source": "df.dtypes",
   "id": "b7ccf4b222f439cf",
   "outputs": [
    {
     "data": {
      "text/plain": [
       "Id                    int64\n",
       "EmployeeName         object\n",
       "JobTitle             object\n",
       "BasePay             float64\n",
       "OvertimePay         float64\n",
       "OtherPay            float64\n",
       "Benefits            float64\n",
       "TotalPay            float64\n",
       "TotalPayBenefits    float64\n",
       "Year                  int64\n",
       "Notes               float64\n",
       "Agency               object\n",
       "Status              float64\n",
       "dtype: object"
      ]
     },
     "execution_count": 90,
     "metadata": {},
     "output_type": "execute_result"
    }
   ],
   "execution_count": 90
  },
  {
   "metadata": {
    "ExecuteTime": {
     "end_time": "2025-09-21T23:42:18.197206Z",
     "start_time": "2025-09-21T23:42:18.194409Z"
    }
   },
   "cell_type": "code",
   "source": "df.EmployeeName",
   "id": "82a6636d03186efe",
   "outputs": [
    {
     "data": {
      "text/plain": [
       "0            NATHANIEL FORD\n",
       "1              GARY JIMENEZ\n",
       "2            ALBERT PARDINI\n",
       "3         CHRISTOPHER CHONG\n",
       "4           PATRICK GARDNER\n",
       "                ...        \n",
       "148649        Roy I Tillery\n",
       "148650         Not provided\n",
       "148651         Not provided\n",
       "148652         Not provided\n",
       "148653            Joe Lopez\n",
       "Name: EmployeeName, Length: 148654, dtype: object"
      ]
     },
     "execution_count": 91,
     "metadata": {},
     "output_type": "execute_result"
    }
   ],
   "execution_count": 91
  },
  {
   "metadata": {
    "ExecuteTime": {
     "end_time": "2025-09-21T23:42:18.300139Z",
     "start_time": "2025-09-21T23:42:18.296879Z"
    }
   },
   "cell_type": "code",
   "source": "df[\"JobTitle\"]",
   "id": "1a5da8b728df0ca0",
   "outputs": [
    {
     "data": {
      "text/plain": [
       "0         GENERAL MANAGER-METROPOLITAN TRANSIT AUTHORITY\n",
       "1                        CAPTAIN III (POLICE DEPARTMENT)\n",
       "2                        CAPTAIN III (POLICE DEPARTMENT)\n",
       "3                   WIRE ROPE CABLE MAINTENANCE MECHANIC\n",
       "4           DEPUTY CHIEF OF DEPARTMENT,(FIRE DEPARTMENT)\n",
       "                               ...                      \n",
       "148649                                         Custodian\n",
       "148650                                      Not provided\n",
       "148651                                      Not provided\n",
       "148652                                      Not provided\n",
       "148653                        Counselor, Log Cabin Ranch\n",
       "Name: JobTitle, Length: 148654, dtype: object"
      ]
     },
     "execution_count": 92,
     "metadata": {},
     "output_type": "execute_result"
    }
   ],
   "execution_count": 92
  },
  {
   "metadata": {
    "ExecuteTime": {
     "end_time": "2025-09-21T23:42:18.559534Z",
     "start_time": "2025-09-21T23:42:18.552745Z"
    }
   },
   "cell_type": "code",
   "source": "df[[\"EmployeeName\",\"JobTitle\"]]",
   "id": "7640f7ac559f50ac",
   "outputs": [
    {
     "data": {
      "text/plain": [
       "             EmployeeName                                        JobTitle\n",
       "0          NATHANIEL FORD  GENERAL MANAGER-METROPOLITAN TRANSIT AUTHORITY\n",
       "1            GARY JIMENEZ                 CAPTAIN III (POLICE DEPARTMENT)\n",
       "2          ALBERT PARDINI                 CAPTAIN III (POLICE DEPARTMENT)\n",
       "3       CHRISTOPHER CHONG            WIRE ROPE CABLE MAINTENANCE MECHANIC\n",
       "4         PATRICK GARDNER    DEPUTY CHIEF OF DEPARTMENT,(FIRE DEPARTMENT)\n",
       "...                   ...                                             ...\n",
       "148649      Roy I Tillery                                       Custodian\n",
       "148650       Not provided                                    Not provided\n",
       "148651       Not provided                                    Not provided\n",
       "148652       Not provided                                    Not provided\n",
       "148653          Joe Lopez                      Counselor, Log Cabin Ranch\n",
       "\n",
       "[148654 rows x 2 columns]"
      ],
      "text/html": [
       "<div>\n",
       "<style scoped>\n",
       "    .dataframe tbody tr th:only-of-type {\n",
       "        vertical-align: middle;\n",
       "    }\n",
       "\n",
       "    .dataframe tbody tr th {\n",
       "        vertical-align: top;\n",
       "    }\n",
       "\n",
       "    .dataframe thead th {\n",
       "        text-align: right;\n",
       "    }\n",
       "</style>\n",
       "<table border=\"1\" class=\"dataframe\">\n",
       "  <thead>\n",
       "    <tr style=\"text-align: right;\">\n",
       "      <th></th>\n",
       "      <th>EmployeeName</th>\n",
       "      <th>JobTitle</th>\n",
       "    </tr>\n",
       "  </thead>\n",
       "  <tbody>\n",
       "    <tr>\n",
       "      <th>0</th>\n",
       "      <td>NATHANIEL FORD</td>\n",
       "      <td>GENERAL MANAGER-METROPOLITAN TRANSIT AUTHORITY</td>\n",
       "    </tr>\n",
       "    <tr>\n",
       "      <th>1</th>\n",
       "      <td>GARY JIMENEZ</td>\n",
       "      <td>CAPTAIN III (POLICE DEPARTMENT)</td>\n",
       "    </tr>\n",
       "    <tr>\n",
       "      <th>2</th>\n",
       "      <td>ALBERT PARDINI</td>\n",
       "      <td>CAPTAIN III (POLICE DEPARTMENT)</td>\n",
       "    </tr>\n",
       "    <tr>\n",
       "      <th>3</th>\n",
       "      <td>CHRISTOPHER CHONG</td>\n",
       "      <td>WIRE ROPE CABLE MAINTENANCE MECHANIC</td>\n",
       "    </tr>\n",
       "    <tr>\n",
       "      <th>4</th>\n",
       "      <td>PATRICK GARDNER</td>\n",
       "      <td>DEPUTY CHIEF OF DEPARTMENT,(FIRE DEPARTMENT)</td>\n",
       "    </tr>\n",
       "    <tr>\n",
       "      <th>...</th>\n",
       "      <td>...</td>\n",
       "      <td>...</td>\n",
       "    </tr>\n",
       "    <tr>\n",
       "      <th>148649</th>\n",
       "      <td>Roy I Tillery</td>\n",
       "      <td>Custodian</td>\n",
       "    </tr>\n",
       "    <tr>\n",
       "      <th>148650</th>\n",
       "      <td>Not provided</td>\n",
       "      <td>Not provided</td>\n",
       "    </tr>\n",
       "    <tr>\n",
       "      <th>148651</th>\n",
       "      <td>Not provided</td>\n",
       "      <td>Not provided</td>\n",
       "    </tr>\n",
       "    <tr>\n",
       "      <th>148652</th>\n",
       "      <td>Not provided</td>\n",
       "      <td>Not provided</td>\n",
       "    </tr>\n",
       "    <tr>\n",
       "      <th>148653</th>\n",
       "      <td>Joe Lopez</td>\n",
       "      <td>Counselor, Log Cabin Ranch</td>\n",
       "    </tr>\n",
       "  </tbody>\n",
       "</table>\n",
       "<p>148654 rows × 2 columns</p>\n",
       "</div>"
      ]
     },
     "execution_count": 93,
     "metadata": {},
     "output_type": "execute_result"
    }
   ],
   "execution_count": 93
  },
  {
   "metadata": {
    "ExecuteTime": {
     "end_time": "2025-09-21T23:42:18.716985Z",
     "start_time": "2025-09-21T23:42:18.714361Z"
    }
   },
   "cell_type": "code",
   "source": "df[\"EmployeeName\"][0]",
   "id": "b49241b911baa2d1",
   "outputs": [
    {
     "data": {
      "text/plain": [
       "'NATHANIEL FORD'"
      ]
     },
     "execution_count": 94,
     "metadata": {},
     "output_type": "execute_result"
    }
   ],
   "execution_count": 94
  },
  {
   "metadata": {
    "ExecuteTime": {
     "end_time": "2025-09-21T23:42:18.747416Z",
     "start_time": "2025-09-21T23:42:18.744849Z"
    }
   },
   "cell_type": "code",
   "source": "df.loc[0, \"EmployeeName\"]",
   "id": "dacef7b0c734324b",
   "outputs": [
    {
     "data": {
      "text/plain": [
       "'NATHANIEL FORD'"
      ]
     },
     "execution_count": 95,
     "metadata": {},
     "output_type": "execute_result"
    }
   ],
   "execution_count": 95
  },
  {
   "metadata": {
    "ExecuteTime": {
     "end_time": "2025-09-21T23:42:18.833484Z",
     "start_time": "2025-09-21T23:42:18.827602Z"
    }
   },
   "cell_type": "code",
   "source": "df.loc[0:2, :]",
   "id": "7be58aaa894e590d",
   "outputs": [
    {
     "data": {
      "text/plain": [
       "   Id    EmployeeName                                        JobTitle  \\\n",
       "0   1  NATHANIEL FORD  GENERAL MANAGER-METROPOLITAN TRANSIT AUTHORITY   \n",
       "1   2    GARY JIMENEZ                 CAPTAIN III (POLICE DEPARTMENT)   \n",
       "2   3  ALBERT PARDINI                 CAPTAIN III (POLICE DEPARTMENT)   \n",
       "\n",
       "     BasePay  OvertimePay   OtherPay  Benefits   TotalPay  TotalPayBenefits  \\\n",
       "0  167411.18         0.00  400184.25       NaN  567595.43         567595.43   \n",
       "1  155966.02    245131.88  137811.38       NaN  538909.28         538909.28   \n",
       "2  212739.13    106088.18   16452.60       NaN  335279.91         335279.91   \n",
       "\n",
       "   Year  Notes         Agency  Status  \n",
       "0  2011    NaN  San Francisco     NaN  \n",
       "1  2011    NaN  San Francisco     NaN  \n",
       "2  2011    NaN  San Francisco     NaN  "
      ],
      "text/html": [
       "<div>\n",
       "<style scoped>\n",
       "    .dataframe tbody tr th:only-of-type {\n",
       "        vertical-align: middle;\n",
       "    }\n",
       "\n",
       "    .dataframe tbody tr th {\n",
       "        vertical-align: top;\n",
       "    }\n",
       "\n",
       "    .dataframe thead th {\n",
       "        text-align: right;\n",
       "    }\n",
       "</style>\n",
       "<table border=\"1\" class=\"dataframe\">\n",
       "  <thead>\n",
       "    <tr style=\"text-align: right;\">\n",
       "      <th></th>\n",
       "      <th>Id</th>\n",
       "      <th>EmployeeName</th>\n",
       "      <th>JobTitle</th>\n",
       "      <th>BasePay</th>\n",
       "      <th>OvertimePay</th>\n",
       "      <th>OtherPay</th>\n",
       "      <th>Benefits</th>\n",
       "      <th>TotalPay</th>\n",
       "      <th>TotalPayBenefits</th>\n",
       "      <th>Year</th>\n",
       "      <th>Notes</th>\n",
       "      <th>Agency</th>\n",
       "      <th>Status</th>\n",
       "    </tr>\n",
       "  </thead>\n",
       "  <tbody>\n",
       "    <tr>\n",
       "      <th>0</th>\n",
       "      <td>1</td>\n",
       "      <td>NATHANIEL FORD</td>\n",
       "      <td>GENERAL MANAGER-METROPOLITAN TRANSIT AUTHORITY</td>\n",
       "      <td>167411.18</td>\n",
       "      <td>0.00</td>\n",
       "      <td>400184.25</td>\n",
       "      <td>NaN</td>\n",
       "      <td>567595.43</td>\n",
       "      <td>567595.43</td>\n",
       "      <td>2011</td>\n",
       "      <td>NaN</td>\n",
       "      <td>San Francisco</td>\n",
       "      <td>NaN</td>\n",
       "    </tr>\n",
       "    <tr>\n",
       "      <th>1</th>\n",
       "      <td>2</td>\n",
       "      <td>GARY JIMENEZ</td>\n",
       "      <td>CAPTAIN III (POLICE DEPARTMENT)</td>\n",
       "      <td>155966.02</td>\n",
       "      <td>245131.88</td>\n",
       "      <td>137811.38</td>\n",
       "      <td>NaN</td>\n",
       "      <td>538909.28</td>\n",
       "      <td>538909.28</td>\n",
       "      <td>2011</td>\n",
       "      <td>NaN</td>\n",
       "      <td>San Francisco</td>\n",
       "      <td>NaN</td>\n",
       "    </tr>\n",
       "    <tr>\n",
       "      <th>2</th>\n",
       "      <td>3</td>\n",
       "      <td>ALBERT PARDINI</td>\n",
       "      <td>CAPTAIN III (POLICE DEPARTMENT)</td>\n",
       "      <td>212739.13</td>\n",
       "      <td>106088.18</td>\n",
       "      <td>16452.60</td>\n",
       "      <td>NaN</td>\n",
       "      <td>335279.91</td>\n",
       "      <td>335279.91</td>\n",
       "      <td>2011</td>\n",
       "      <td>NaN</td>\n",
       "      <td>San Francisco</td>\n",
       "      <td>NaN</td>\n",
       "    </tr>\n",
       "  </tbody>\n",
       "</table>\n",
       "</div>"
      ]
     },
     "execution_count": 96,
     "metadata": {},
     "output_type": "execute_result"
    }
   ],
   "execution_count": 96
  },
  {
   "metadata": {
    "ExecuteTime": {
     "end_time": "2025-09-21T23:42:18.959819Z",
     "start_time": "2025-09-21T23:42:18.953604Z"
    }
   },
   "cell_type": "code",
   "source": "df.loc[0:2, \"EmployeeName\":\"BasePay\"]",
   "id": "fdaa3485c6a99f54",
   "outputs": [
    {
     "data": {
      "text/plain": [
       "     EmployeeName                                        JobTitle    BasePay\n",
       "0  NATHANIEL FORD  GENERAL MANAGER-METROPOLITAN TRANSIT AUTHORITY  167411.18\n",
       "1    GARY JIMENEZ                 CAPTAIN III (POLICE DEPARTMENT)  155966.02\n",
       "2  ALBERT PARDINI                 CAPTAIN III (POLICE DEPARTMENT)  212739.13"
      ],
      "text/html": [
       "<div>\n",
       "<style scoped>\n",
       "    .dataframe tbody tr th:only-of-type {\n",
       "        vertical-align: middle;\n",
       "    }\n",
       "\n",
       "    .dataframe tbody tr th {\n",
       "        vertical-align: top;\n",
       "    }\n",
       "\n",
       "    .dataframe thead th {\n",
       "        text-align: right;\n",
       "    }\n",
       "</style>\n",
       "<table border=\"1\" class=\"dataframe\">\n",
       "  <thead>\n",
       "    <tr style=\"text-align: right;\">\n",
       "      <th></th>\n",
       "      <th>EmployeeName</th>\n",
       "      <th>JobTitle</th>\n",
       "      <th>BasePay</th>\n",
       "    </tr>\n",
       "  </thead>\n",
       "  <tbody>\n",
       "    <tr>\n",
       "      <th>0</th>\n",
       "      <td>NATHANIEL FORD</td>\n",
       "      <td>GENERAL MANAGER-METROPOLITAN TRANSIT AUTHORITY</td>\n",
       "      <td>167411.18</td>\n",
       "    </tr>\n",
       "    <tr>\n",
       "      <th>1</th>\n",
       "      <td>GARY JIMENEZ</td>\n",
       "      <td>CAPTAIN III (POLICE DEPARTMENT)</td>\n",
       "      <td>155966.02</td>\n",
       "    </tr>\n",
       "    <tr>\n",
       "      <th>2</th>\n",
       "      <td>ALBERT PARDINI</td>\n",
       "      <td>CAPTAIN III (POLICE DEPARTMENT)</td>\n",
       "      <td>212739.13</td>\n",
       "    </tr>\n",
       "  </tbody>\n",
       "</table>\n",
       "</div>"
      ]
     },
     "execution_count": 97,
     "metadata": {},
     "output_type": "execute_result"
    }
   ],
   "execution_count": 97
  },
  {
   "metadata": {
    "ExecuteTime": {
     "end_time": "2025-09-21T23:42:19.012188Z",
     "start_time": "2025-09-21T23:42:19.004018Z"
    }
   },
   "cell_type": "code",
   "source": "df.loc[[0,2,3], \"EmployeeName\":\"BasePay\"]",
   "id": "e6535924098bd957",
   "outputs": [
    {
     "data": {
      "text/plain": [
       "        EmployeeName                                        JobTitle  \\\n",
       "0     NATHANIEL FORD  GENERAL MANAGER-METROPOLITAN TRANSIT AUTHORITY   \n",
       "2     ALBERT PARDINI                 CAPTAIN III (POLICE DEPARTMENT)   \n",
       "3  CHRISTOPHER CHONG            WIRE ROPE CABLE MAINTENANCE MECHANIC   \n",
       "\n",
       "     BasePay  \n",
       "0  167411.18  \n",
       "2  212739.13  \n",
       "3   77916.00  "
      ],
      "text/html": [
       "<div>\n",
       "<style scoped>\n",
       "    .dataframe tbody tr th:only-of-type {\n",
       "        vertical-align: middle;\n",
       "    }\n",
       "\n",
       "    .dataframe tbody tr th {\n",
       "        vertical-align: top;\n",
       "    }\n",
       "\n",
       "    .dataframe thead th {\n",
       "        text-align: right;\n",
       "    }\n",
       "</style>\n",
       "<table border=\"1\" class=\"dataframe\">\n",
       "  <thead>\n",
       "    <tr style=\"text-align: right;\">\n",
       "      <th></th>\n",
       "      <th>EmployeeName</th>\n",
       "      <th>JobTitle</th>\n",
       "      <th>BasePay</th>\n",
       "    </tr>\n",
       "  </thead>\n",
       "  <tbody>\n",
       "    <tr>\n",
       "      <th>0</th>\n",
       "      <td>NATHANIEL FORD</td>\n",
       "      <td>GENERAL MANAGER-METROPOLITAN TRANSIT AUTHORITY</td>\n",
       "      <td>167411.18</td>\n",
       "    </tr>\n",
       "    <tr>\n",
       "      <th>2</th>\n",
       "      <td>ALBERT PARDINI</td>\n",
       "      <td>CAPTAIN III (POLICE DEPARTMENT)</td>\n",
       "      <td>212739.13</td>\n",
       "    </tr>\n",
       "    <tr>\n",
       "      <th>3</th>\n",
       "      <td>CHRISTOPHER CHONG</td>\n",
       "      <td>WIRE ROPE CABLE MAINTENANCE MECHANIC</td>\n",
       "      <td>77916.00</td>\n",
       "    </tr>\n",
       "  </tbody>\n",
       "</table>\n",
       "</div>"
      ]
     },
     "execution_count": 98,
     "metadata": {},
     "output_type": "execute_result"
    }
   ],
   "execution_count": 98
  },
  {
   "metadata": {
    "ExecuteTime": {
     "end_time": "2025-09-21T23:42:19.116781Z",
     "start_time": "2025-09-21T23:42:19.113529Z"
    }
   },
   "cell_type": "code",
   "source": "df.BasePay.mean()",
   "id": "ced185a87169135f",
   "outputs": [
    {
     "data": {
      "text/plain": [
       "np.float64(66325.4488404877)"
      ]
     },
     "execution_count": 99,
     "metadata": {},
     "output_type": "execute_result"
    }
   ],
   "execution_count": 99
  },
  {
   "metadata": {
    "ExecuteTime": {
     "end_time": "2025-09-21T23:42:19.126880Z",
     "start_time": "2025-09-21T23:42:19.123330Z"
    }
   },
   "cell_type": "code",
   "source": "df[\"BasePay\"].max()",
   "id": "2a1f019fb08e7679",
   "outputs": [
    {
     "data": {
      "text/plain": [
       "np.float64(319275.01)"
      ]
     },
     "execution_count": 100,
     "metadata": {},
     "output_type": "execute_result"
    }
   ],
   "execution_count": 100
  },
  {
   "metadata": {
    "ExecuteTime": {
     "end_time": "2025-09-21T23:42:19.167898Z",
     "start_time": "2025-09-21T23:42:19.161201Z"
    }
   },
   "cell_type": "code",
   "source": [
    "df[\"newCol\"] = df['BasePay']/2\n",
    "df.head(1)"
   ],
   "id": "4cf93fa4c2e4fa5f",
   "outputs": [
    {
     "data": {
      "text/plain": [
       "   Id    EmployeeName                                        JobTitle  \\\n",
       "0   1  NATHANIEL FORD  GENERAL MANAGER-METROPOLITAN TRANSIT AUTHORITY   \n",
       "\n",
       "     BasePay  OvertimePay   OtherPay  Benefits   TotalPay  TotalPayBenefits  \\\n",
       "0  167411.18          0.0  400184.25       NaN  567595.43         567595.43   \n",
       "\n",
       "   Year  Notes         Agency  Status    newCol  \n",
       "0  2011    NaN  San Francisco     NaN  83705.59  "
      ],
      "text/html": [
       "<div>\n",
       "<style scoped>\n",
       "    .dataframe tbody tr th:only-of-type {\n",
       "        vertical-align: middle;\n",
       "    }\n",
       "\n",
       "    .dataframe tbody tr th {\n",
       "        vertical-align: top;\n",
       "    }\n",
       "\n",
       "    .dataframe thead th {\n",
       "        text-align: right;\n",
       "    }\n",
       "</style>\n",
       "<table border=\"1\" class=\"dataframe\">\n",
       "  <thead>\n",
       "    <tr style=\"text-align: right;\">\n",
       "      <th></th>\n",
       "      <th>Id</th>\n",
       "      <th>EmployeeName</th>\n",
       "      <th>JobTitle</th>\n",
       "      <th>BasePay</th>\n",
       "      <th>OvertimePay</th>\n",
       "      <th>OtherPay</th>\n",
       "      <th>Benefits</th>\n",
       "      <th>TotalPay</th>\n",
       "      <th>TotalPayBenefits</th>\n",
       "      <th>Year</th>\n",
       "      <th>Notes</th>\n",
       "      <th>Agency</th>\n",
       "      <th>Status</th>\n",
       "      <th>newCol</th>\n",
       "    </tr>\n",
       "  </thead>\n",
       "  <tbody>\n",
       "    <tr>\n",
       "      <th>0</th>\n",
       "      <td>1</td>\n",
       "      <td>NATHANIEL FORD</td>\n",
       "      <td>GENERAL MANAGER-METROPOLITAN TRANSIT AUTHORITY</td>\n",
       "      <td>167411.18</td>\n",
       "      <td>0.0</td>\n",
       "      <td>400184.25</td>\n",
       "      <td>NaN</td>\n",
       "      <td>567595.43</td>\n",
       "      <td>567595.43</td>\n",
       "      <td>2011</td>\n",
       "      <td>NaN</td>\n",
       "      <td>San Francisco</td>\n",
       "      <td>NaN</td>\n",
       "      <td>83705.59</td>\n",
       "    </tr>\n",
       "  </tbody>\n",
       "</table>\n",
       "</div>"
      ]
     },
     "execution_count": 101,
     "metadata": {},
     "output_type": "execute_result"
    }
   ],
   "execution_count": 101
  },
  {
   "metadata": {
    "ExecuteTime": {
     "end_time": "2025-09-21T23:42:19.217537Z",
     "start_time": "2025-09-21T23:42:19.207641Z"
    }
   },
   "cell_type": "code",
   "source": [
    "df.drop([\"newCol\"], axis=1, inplace=True)\n",
    "df.head(1)"
   ],
   "id": "64e33f6596cb95f2",
   "outputs": [
    {
     "data": {
      "text/plain": [
       "   Id    EmployeeName                                        JobTitle  \\\n",
       "0   1  NATHANIEL FORD  GENERAL MANAGER-METROPOLITAN TRANSIT AUTHORITY   \n",
       "\n",
       "     BasePay  OvertimePay   OtherPay  Benefits   TotalPay  TotalPayBenefits  \\\n",
       "0  167411.18          0.0  400184.25       NaN  567595.43         567595.43   \n",
       "\n",
       "   Year  Notes         Agency  Status  \n",
       "0  2011    NaN  San Francisco     NaN  "
      ],
      "text/html": [
       "<div>\n",
       "<style scoped>\n",
       "    .dataframe tbody tr th:only-of-type {\n",
       "        vertical-align: middle;\n",
       "    }\n",
       "\n",
       "    .dataframe tbody tr th {\n",
       "        vertical-align: top;\n",
       "    }\n",
       "\n",
       "    .dataframe thead th {\n",
       "        text-align: right;\n",
       "    }\n",
       "</style>\n",
       "<table border=\"1\" class=\"dataframe\">\n",
       "  <thead>\n",
       "    <tr style=\"text-align: right;\">\n",
       "      <th></th>\n",
       "      <th>Id</th>\n",
       "      <th>EmployeeName</th>\n",
       "      <th>JobTitle</th>\n",
       "      <th>BasePay</th>\n",
       "      <th>OvertimePay</th>\n",
       "      <th>OtherPay</th>\n",
       "      <th>Benefits</th>\n",
       "      <th>TotalPay</th>\n",
       "      <th>TotalPayBenefits</th>\n",
       "      <th>Year</th>\n",
       "      <th>Notes</th>\n",
       "      <th>Agency</th>\n",
       "      <th>Status</th>\n",
       "    </tr>\n",
       "  </thead>\n",
       "  <tbody>\n",
       "    <tr>\n",
       "      <th>0</th>\n",
       "      <td>1</td>\n",
       "      <td>NATHANIEL FORD</td>\n",
       "      <td>GENERAL MANAGER-METROPOLITAN TRANSIT AUTHORITY</td>\n",
       "      <td>167411.18</td>\n",
       "      <td>0.0</td>\n",
       "      <td>400184.25</td>\n",
       "      <td>NaN</td>\n",
       "      <td>567595.43</td>\n",
       "      <td>567595.43</td>\n",
       "      <td>2011</td>\n",
       "      <td>NaN</td>\n",
       "      <td>San Francisco</td>\n",
       "      <td>NaN</td>\n",
       "    </tr>\n",
       "  </tbody>\n",
       "</table>\n",
       "</div>"
      ]
     },
     "execution_count": 102,
     "metadata": {},
     "output_type": "execute_result"
    }
   ],
   "execution_count": 102
  },
  {
   "metadata": {},
   "cell_type": "markdown",
   "source": [
    "• axis = 1 – delete specified columns\n",
    "• axis = 0 – delete specified rows\n",
    "• inplace = True– change df_grades\n",
    "• inplace = False – return dataframe with"
   ],
   "id": "ff5ffa797e18b9ec"
  },
  {
   "metadata": {
    "ExecuteTime": {
     "end_time": "2025-09-21T23:43:33.898798Z",
     "start_time": "2025-09-21T23:43:33.893195Z"
    }
   },
   "cell_type": "code",
   "source": [
    "df.rename(columns={\"EmployeeName\":\"Name\", \"JobTitle\":\"Title\"}, inplace=True)\n",
    "df.columns"
   ],
   "id": "a6bc739bf36ff14c",
   "outputs": [
    {
     "data": {
      "text/plain": [
       "Index(['Id', 'Name', 'Title', 'BasePay', 'OvertimePay', 'OtherPay', 'Benefits',\n",
       "       'TotalPay', 'TotalPayBenefits', 'Year', 'Notes', 'Agency', 'Status'],\n",
       "      dtype='object')"
      ]
     },
     "execution_count": 104,
     "metadata": {},
     "output_type": "execute_result"
    }
   ],
   "execution_count": 104
  },
  {
   "metadata": {
    "ExecuteTime": {
     "end_time": "2025-09-22T00:44:10.227563Z",
     "start_time": "2025-09-22T00:44:10.213048Z"
    }
   },
   "cell_type": "code",
   "source": [
    "dataframe = df.head(2)\n",
    "\n",
    "df_concat = pd.concat([df, dataframe], axis=0, ignore_index=True)\n",
    "df_concat.tail(5)"
   ],
   "id": "c05f0de846234c2c",
   "outputs": [
    {
     "data": {
      "text/plain": [
       "            Id            Name  \\\n",
       "148651  148652    Not provided   \n",
       "148652  148653    Not provided   \n",
       "148653  148654       Joe Lopez   \n",
       "0            1  NATHANIEL FORD   \n",
       "1            2    GARY JIMENEZ   \n",
       "\n",
       "                                                 Title    BasePay  \\\n",
       "148651                                    Not provided        NaN   \n",
       "148652                                    Not provided        NaN   \n",
       "148653                      Counselor, Log Cabin Ranch       0.00   \n",
       "0       GENERAL MANAGER-METROPOLITAN TRANSIT AUTHORITY  167411.18   \n",
       "1                      CAPTAIN III (POLICE DEPARTMENT)  155966.02   \n",
       "\n",
       "        OvertimePay   OtherPay  Benefits   TotalPay  TotalPayBenefits  Year  \\\n",
       "148651          NaN        NaN       NaN       0.00              0.00  2014   \n",
       "148652          NaN        NaN       NaN       0.00              0.00  2014   \n",
       "148653         0.00    -618.13       0.0    -618.13           -618.13  2014   \n",
       "0              0.00  400184.25       NaN  567595.43         567595.43  2011   \n",
       "1         245131.88  137811.38       NaN  538909.28         538909.28  2011   \n",
       "\n",
       "        Notes         Agency  Status  \n",
       "148651    NaN  San Francisco     NaN  \n",
       "148652    NaN  San Francisco     NaN  \n",
       "148653    NaN  San Francisco     NaN  \n",
       "0         NaN  San Francisco     NaN  \n",
       "1         NaN  San Francisco     NaN  "
      ],
      "text/html": [
       "<div>\n",
       "<style scoped>\n",
       "    .dataframe tbody tr th:only-of-type {\n",
       "        vertical-align: middle;\n",
       "    }\n",
       "\n",
       "    .dataframe tbody tr th {\n",
       "        vertical-align: top;\n",
       "    }\n",
       "\n",
       "    .dataframe thead th {\n",
       "        text-align: right;\n",
       "    }\n",
       "</style>\n",
       "<table border=\"1\" class=\"dataframe\">\n",
       "  <thead>\n",
       "    <tr style=\"text-align: right;\">\n",
       "      <th></th>\n",
       "      <th>Id</th>\n",
       "      <th>Name</th>\n",
       "      <th>Title</th>\n",
       "      <th>BasePay</th>\n",
       "      <th>OvertimePay</th>\n",
       "      <th>OtherPay</th>\n",
       "      <th>Benefits</th>\n",
       "      <th>TotalPay</th>\n",
       "      <th>TotalPayBenefits</th>\n",
       "      <th>Year</th>\n",
       "      <th>Notes</th>\n",
       "      <th>Agency</th>\n",
       "      <th>Status</th>\n",
       "    </tr>\n",
       "  </thead>\n",
       "  <tbody>\n",
       "    <tr>\n",
       "      <th>148651</th>\n",
       "      <td>148652</td>\n",
       "      <td>Not provided</td>\n",
       "      <td>Not provided</td>\n",
       "      <td>NaN</td>\n",
       "      <td>NaN</td>\n",
       "      <td>NaN</td>\n",
       "      <td>NaN</td>\n",
       "      <td>0.00</td>\n",
       "      <td>0.00</td>\n",
       "      <td>2014</td>\n",
       "      <td>NaN</td>\n",
       "      <td>San Francisco</td>\n",
       "      <td>NaN</td>\n",
       "    </tr>\n",
       "    <tr>\n",
       "      <th>148652</th>\n",
       "      <td>148653</td>\n",
       "      <td>Not provided</td>\n",
       "      <td>Not provided</td>\n",
       "      <td>NaN</td>\n",
       "      <td>NaN</td>\n",
       "      <td>NaN</td>\n",
       "      <td>NaN</td>\n",
       "      <td>0.00</td>\n",
       "      <td>0.00</td>\n",
       "      <td>2014</td>\n",
       "      <td>NaN</td>\n",
       "      <td>San Francisco</td>\n",
       "      <td>NaN</td>\n",
       "    </tr>\n",
       "    <tr>\n",
       "      <th>148653</th>\n",
       "      <td>148654</td>\n",
       "      <td>Joe Lopez</td>\n",
       "      <td>Counselor, Log Cabin Ranch</td>\n",
       "      <td>0.00</td>\n",
       "      <td>0.00</td>\n",
       "      <td>-618.13</td>\n",
       "      <td>0.0</td>\n",
       "      <td>-618.13</td>\n",
       "      <td>-618.13</td>\n",
       "      <td>2014</td>\n",
       "      <td>NaN</td>\n",
       "      <td>San Francisco</td>\n",
       "      <td>NaN</td>\n",
       "    </tr>\n",
       "    <tr>\n",
       "      <th>0</th>\n",
       "      <td>1</td>\n",
       "      <td>NATHANIEL FORD</td>\n",
       "      <td>GENERAL MANAGER-METROPOLITAN TRANSIT AUTHORITY</td>\n",
       "      <td>167411.18</td>\n",
       "      <td>0.00</td>\n",
       "      <td>400184.25</td>\n",
       "      <td>NaN</td>\n",
       "      <td>567595.43</td>\n",
       "      <td>567595.43</td>\n",
       "      <td>2011</td>\n",
       "      <td>NaN</td>\n",
       "      <td>San Francisco</td>\n",
       "      <td>NaN</td>\n",
       "    </tr>\n",
       "    <tr>\n",
       "      <th>1</th>\n",
       "      <td>2</td>\n",
       "      <td>GARY JIMENEZ</td>\n",
       "      <td>CAPTAIN III (POLICE DEPARTMENT)</td>\n",
       "      <td>155966.02</td>\n",
       "      <td>245131.88</td>\n",
       "      <td>137811.38</td>\n",
       "      <td>NaN</td>\n",
       "      <td>538909.28</td>\n",
       "      <td>538909.28</td>\n",
       "      <td>2011</td>\n",
       "      <td>NaN</td>\n",
       "      <td>San Francisco</td>\n",
       "      <td>NaN</td>\n",
       "    </tr>\n",
       "  </tbody>\n",
       "</table>\n",
       "</div>"
      ]
     },
     "execution_count": 107,
     "metadata": {},
     "output_type": "execute_result"
    }
   ],
   "execution_count": 107
  },
  {
   "metadata": {},
   "cell_type": "markdown",
   "source": [
    "axis = 0 (default) – combine the two\n",
    "dataframes by stacking them on top\n",
    "of each other. Set axis =1 to stack\n",
    "side by side."
   ],
   "id": "2069656b1eb82575"
  },
  {
   "metadata": {
    "ExecuteTime": {
     "end_time": "2025-09-22T00:47:58.521456Z",
     "start_time": "2025-09-22T00:47:58.393193Z"
    }
   },
   "cell_type": "code",
   "source": [
    "df = pd.read_csv('Salaries.csv')\n",
    "df.set_index(\"EmployeeName\", inplace=True)\n",
    "df.head(1)"
   ],
   "id": "6d8bf3ae7afb6106",
   "outputs": [
    {
     "data": {
      "text/plain": [
       "                Id                                        JobTitle    BasePay  \\\n",
       "EmployeeName                                                                    \n",
       "NATHANIEL FORD   1  GENERAL MANAGER-METROPOLITAN TRANSIT AUTHORITY  167411.18   \n",
       "\n",
       "                OvertimePay   OtherPay  Benefits   TotalPay  TotalPayBenefits  \\\n",
       "EmployeeName                                                                    \n",
       "NATHANIEL FORD          0.0  400184.25       NaN  567595.43         567595.43   \n",
       "\n",
       "                Year  Notes         Agency  Status  \n",
       "EmployeeName                                        \n",
       "NATHANIEL FORD  2011    NaN  San Francisco     NaN  "
      ],
      "text/html": [
       "<div>\n",
       "<style scoped>\n",
       "    .dataframe tbody tr th:only-of-type {\n",
       "        vertical-align: middle;\n",
       "    }\n",
       "\n",
       "    .dataframe tbody tr th {\n",
       "        vertical-align: top;\n",
       "    }\n",
       "\n",
       "    .dataframe thead th {\n",
       "        text-align: right;\n",
       "    }\n",
       "</style>\n",
       "<table border=\"1\" class=\"dataframe\">\n",
       "  <thead>\n",
       "    <tr style=\"text-align: right;\">\n",
       "      <th></th>\n",
       "      <th>Id</th>\n",
       "      <th>JobTitle</th>\n",
       "      <th>BasePay</th>\n",
       "      <th>OvertimePay</th>\n",
       "      <th>OtherPay</th>\n",
       "      <th>Benefits</th>\n",
       "      <th>TotalPay</th>\n",
       "      <th>TotalPayBenefits</th>\n",
       "      <th>Year</th>\n",
       "      <th>Notes</th>\n",
       "      <th>Agency</th>\n",
       "      <th>Status</th>\n",
       "    </tr>\n",
       "    <tr>\n",
       "      <th>EmployeeName</th>\n",
       "      <th></th>\n",
       "      <th></th>\n",
       "      <th></th>\n",
       "      <th></th>\n",
       "      <th></th>\n",
       "      <th></th>\n",
       "      <th></th>\n",
       "      <th></th>\n",
       "      <th></th>\n",
       "      <th></th>\n",
       "      <th></th>\n",
       "      <th></th>\n",
       "    </tr>\n",
       "  </thead>\n",
       "  <tbody>\n",
       "    <tr>\n",
       "      <th>NATHANIEL FORD</th>\n",
       "      <td>1</td>\n",
       "      <td>GENERAL MANAGER-METROPOLITAN TRANSIT AUTHORITY</td>\n",
       "      <td>167411.18</td>\n",
       "      <td>0.0</td>\n",
       "      <td>400184.25</td>\n",
       "      <td>NaN</td>\n",
       "      <td>567595.43</td>\n",
       "      <td>567595.43</td>\n",
       "      <td>2011</td>\n",
       "      <td>NaN</td>\n",
       "      <td>San Francisco</td>\n",
       "      <td>NaN</td>\n",
       "    </tr>\n",
       "  </tbody>\n",
       "</table>\n",
       "</div>"
      ]
     },
     "execution_count": 121,
     "metadata": {},
     "output_type": "execute_result"
    }
   ],
   "execution_count": 121
  },
  {
   "metadata": {
    "ExecuteTime": {
     "end_time": "2025-09-22T00:48:38.987256Z",
     "start_time": "2025-09-22T00:48:38.971680Z"
    }
   },
   "cell_type": "code",
   "source": "df.isnull().sum()",
   "id": "ae6efce684de6069",
   "outputs": [
    {
     "data": {
      "text/plain": [
       "Id                       0\n",
       "JobTitle                 0\n",
       "BasePay                609\n",
       "OvertimePay              4\n",
       "OtherPay                 4\n",
       "Benefits             36163\n",
       "TotalPay                 0\n",
       "TotalPayBenefits         0\n",
       "Year                     0\n",
       "Notes               148654\n",
       "Agency                   0\n",
       "Status              148654\n",
       "dtype: int64"
      ]
     },
     "execution_count": 123,
     "metadata": {},
     "output_type": "execute_result"
    }
   ],
   "execution_count": 123
  },
  {
   "metadata": {
    "ExecuteTime": {
     "end_time": "2025-09-22T00:53:37.619830Z",
     "start_time": "2025-09-22T00:53:37.474412Z"
    }
   },
   "cell_type": "code",
   "source": [
    "df = pd.read_csv('Salaries.csv', na_values=['NaN', \"not available\", -1])\n",
    "\n",
    "# df.dropna(axis=0, inplace=True)\n",
    "df.dropna(subset=['Benefits'], inplace=True)\n",
    "df\n"
   ],
   "id": "a0ac7e4fae194ca1",
   "outputs": [
    {
     "data": {
      "text/plain": [
       "            Id        EmployeeName                      JobTitle    BasePay  \\\n",
       "36159    36160      Gary Altenberg  Lieutenant, Fire Suppression  128808.87   \n",
       "36160    36161        Gregory Suhr               Chief of Police  302578.00   \n",
       "36161    36162          Khoa Trinh   Electronic Maintenance Tech  111921.00   \n",
       "36162    36163  Joanne Hayes-White        Chief, Fire Department  296943.01   \n",
       "36163    36164   Frederick Binkley     EMT/Paramedic/Firefighter  126863.19   \n",
       "...        ...                 ...                           ...        ...   \n",
       "148645  148646    Carolyn A Wilson     Human Services Technician       0.00   \n",
       "148647  148648      Joann Anderson   Communications Dispatcher 2       0.00   \n",
       "148648  148649         Leon Walker                     Custodian       0.00   \n",
       "148649  148650       Roy I Tillery                     Custodian       0.00   \n",
       "148653  148654           Joe Lopez    Counselor, Log Cabin Ranch       0.00   \n",
       "\n",
       "        OvertimePay  OtherPay  Benefits   TotalPay  TotalPayBenefits  Year  \\\n",
       "36159     220909.48  13126.31  44430.12  362844.66         407274.78  2012   \n",
       "36160          0.00  18974.11  69810.19  321552.11         391362.30  2012   \n",
       "36161     146415.32  78057.41  53102.29  336393.73         389496.02  2012   \n",
       "36162          0.00  17816.59  72047.88  314759.60         386807.48  2012   \n",
       "36163     192424.49  17917.18  44438.25  337204.86         381643.11  2012   \n",
       "...             ...       ...       ...        ...               ...   ...   \n",
       "148645         0.00      0.00      0.00       0.00              0.00  2014   \n",
       "148647         0.00      0.00      0.00       0.00              0.00  2014   \n",
       "148648         0.00      0.00      0.00       0.00              0.00  2014   \n",
       "148649         0.00      0.00      0.00       0.00              0.00  2014   \n",
       "148653         0.00   -618.13      0.00    -618.13           -618.13  2014   \n",
       "\n",
       "        Notes         Agency  Status  \n",
       "36159     NaN  San Francisco     NaN  \n",
       "36160     NaN  San Francisco     NaN  \n",
       "36161     NaN  San Francisco     NaN  \n",
       "36162     NaN  San Francisco     NaN  \n",
       "36163     NaN  San Francisco     NaN  \n",
       "...       ...            ...     ...  \n",
       "148645    NaN  San Francisco     NaN  \n",
       "148647    NaN  San Francisco     NaN  \n",
       "148648    NaN  San Francisco     NaN  \n",
       "148649    NaN  San Francisco     NaN  \n",
       "148653    NaN  San Francisco     NaN  \n",
       "\n",
       "[112491 rows x 13 columns]"
      ],
      "text/html": [
       "<div>\n",
       "<style scoped>\n",
       "    .dataframe tbody tr th:only-of-type {\n",
       "        vertical-align: middle;\n",
       "    }\n",
       "\n",
       "    .dataframe tbody tr th {\n",
       "        vertical-align: top;\n",
       "    }\n",
       "\n",
       "    .dataframe thead th {\n",
       "        text-align: right;\n",
       "    }\n",
       "</style>\n",
       "<table border=\"1\" class=\"dataframe\">\n",
       "  <thead>\n",
       "    <tr style=\"text-align: right;\">\n",
       "      <th></th>\n",
       "      <th>Id</th>\n",
       "      <th>EmployeeName</th>\n",
       "      <th>JobTitle</th>\n",
       "      <th>BasePay</th>\n",
       "      <th>OvertimePay</th>\n",
       "      <th>OtherPay</th>\n",
       "      <th>Benefits</th>\n",
       "      <th>TotalPay</th>\n",
       "      <th>TotalPayBenefits</th>\n",
       "      <th>Year</th>\n",
       "      <th>Notes</th>\n",
       "      <th>Agency</th>\n",
       "      <th>Status</th>\n",
       "    </tr>\n",
       "  </thead>\n",
       "  <tbody>\n",
       "    <tr>\n",
       "      <th>36159</th>\n",
       "      <td>36160</td>\n",
       "      <td>Gary Altenberg</td>\n",
       "      <td>Lieutenant, Fire Suppression</td>\n",
       "      <td>128808.87</td>\n",
       "      <td>220909.48</td>\n",
       "      <td>13126.31</td>\n",
       "      <td>44430.12</td>\n",
       "      <td>362844.66</td>\n",
       "      <td>407274.78</td>\n",
       "      <td>2012</td>\n",
       "      <td>NaN</td>\n",
       "      <td>San Francisco</td>\n",
       "      <td>NaN</td>\n",
       "    </tr>\n",
       "    <tr>\n",
       "      <th>36160</th>\n",
       "      <td>36161</td>\n",
       "      <td>Gregory Suhr</td>\n",
       "      <td>Chief of Police</td>\n",
       "      <td>302578.00</td>\n",
       "      <td>0.00</td>\n",
       "      <td>18974.11</td>\n",
       "      <td>69810.19</td>\n",
       "      <td>321552.11</td>\n",
       "      <td>391362.30</td>\n",
       "      <td>2012</td>\n",
       "      <td>NaN</td>\n",
       "      <td>San Francisco</td>\n",
       "      <td>NaN</td>\n",
       "    </tr>\n",
       "    <tr>\n",
       "      <th>36161</th>\n",
       "      <td>36162</td>\n",
       "      <td>Khoa Trinh</td>\n",
       "      <td>Electronic Maintenance Tech</td>\n",
       "      <td>111921.00</td>\n",
       "      <td>146415.32</td>\n",
       "      <td>78057.41</td>\n",
       "      <td>53102.29</td>\n",
       "      <td>336393.73</td>\n",
       "      <td>389496.02</td>\n",
       "      <td>2012</td>\n",
       "      <td>NaN</td>\n",
       "      <td>San Francisco</td>\n",
       "      <td>NaN</td>\n",
       "    </tr>\n",
       "    <tr>\n",
       "      <th>36162</th>\n",
       "      <td>36163</td>\n",
       "      <td>Joanne Hayes-White</td>\n",
       "      <td>Chief, Fire Department</td>\n",
       "      <td>296943.01</td>\n",
       "      <td>0.00</td>\n",
       "      <td>17816.59</td>\n",
       "      <td>72047.88</td>\n",
       "      <td>314759.60</td>\n",
       "      <td>386807.48</td>\n",
       "      <td>2012</td>\n",
       "      <td>NaN</td>\n",
       "      <td>San Francisco</td>\n",
       "      <td>NaN</td>\n",
       "    </tr>\n",
       "    <tr>\n",
       "      <th>36163</th>\n",
       "      <td>36164</td>\n",
       "      <td>Frederick Binkley</td>\n",
       "      <td>EMT/Paramedic/Firefighter</td>\n",
       "      <td>126863.19</td>\n",
       "      <td>192424.49</td>\n",
       "      <td>17917.18</td>\n",
       "      <td>44438.25</td>\n",
       "      <td>337204.86</td>\n",
       "      <td>381643.11</td>\n",
       "      <td>2012</td>\n",
       "      <td>NaN</td>\n",
       "      <td>San Francisco</td>\n",
       "      <td>NaN</td>\n",
       "    </tr>\n",
       "    <tr>\n",
       "      <th>...</th>\n",
       "      <td>...</td>\n",
       "      <td>...</td>\n",
       "      <td>...</td>\n",
       "      <td>...</td>\n",
       "      <td>...</td>\n",
       "      <td>...</td>\n",
       "      <td>...</td>\n",
       "      <td>...</td>\n",
       "      <td>...</td>\n",
       "      <td>...</td>\n",
       "      <td>...</td>\n",
       "      <td>...</td>\n",
       "      <td>...</td>\n",
       "    </tr>\n",
       "    <tr>\n",
       "      <th>148645</th>\n",
       "      <td>148646</td>\n",
       "      <td>Carolyn A Wilson</td>\n",
       "      <td>Human Services Technician</td>\n",
       "      <td>0.00</td>\n",
       "      <td>0.00</td>\n",
       "      <td>0.00</td>\n",
       "      <td>0.00</td>\n",
       "      <td>0.00</td>\n",
       "      <td>0.00</td>\n",
       "      <td>2014</td>\n",
       "      <td>NaN</td>\n",
       "      <td>San Francisco</td>\n",
       "      <td>NaN</td>\n",
       "    </tr>\n",
       "    <tr>\n",
       "      <th>148647</th>\n",
       "      <td>148648</td>\n",
       "      <td>Joann Anderson</td>\n",
       "      <td>Communications Dispatcher 2</td>\n",
       "      <td>0.00</td>\n",
       "      <td>0.00</td>\n",
       "      <td>0.00</td>\n",
       "      <td>0.00</td>\n",
       "      <td>0.00</td>\n",
       "      <td>0.00</td>\n",
       "      <td>2014</td>\n",
       "      <td>NaN</td>\n",
       "      <td>San Francisco</td>\n",
       "      <td>NaN</td>\n",
       "    </tr>\n",
       "    <tr>\n",
       "      <th>148648</th>\n",
       "      <td>148649</td>\n",
       "      <td>Leon Walker</td>\n",
       "      <td>Custodian</td>\n",
       "      <td>0.00</td>\n",
       "      <td>0.00</td>\n",
       "      <td>0.00</td>\n",
       "      <td>0.00</td>\n",
       "      <td>0.00</td>\n",
       "      <td>0.00</td>\n",
       "      <td>2014</td>\n",
       "      <td>NaN</td>\n",
       "      <td>San Francisco</td>\n",
       "      <td>NaN</td>\n",
       "    </tr>\n",
       "    <tr>\n",
       "      <th>148649</th>\n",
       "      <td>148650</td>\n",
       "      <td>Roy I Tillery</td>\n",
       "      <td>Custodian</td>\n",
       "      <td>0.00</td>\n",
       "      <td>0.00</td>\n",
       "      <td>0.00</td>\n",
       "      <td>0.00</td>\n",
       "      <td>0.00</td>\n",
       "      <td>0.00</td>\n",
       "      <td>2014</td>\n",
       "      <td>NaN</td>\n",
       "      <td>San Francisco</td>\n",
       "      <td>NaN</td>\n",
       "    </tr>\n",
       "    <tr>\n",
       "      <th>148653</th>\n",
       "      <td>148654</td>\n",
       "      <td>Joe Lopez</td>\n",
       "      <td>Counselor, Log Cabin Ranch</td>\n",
       "      <td>0.00</td>\n",
       "      <td>0.00</td>\n",
       "      <td>-618.13</td>\n",
       "      <td>0.00</td>\n",
       "      <td>-618.13</td>\n",
       "      <td>-618.13</td>\n",
       "      <td>2014</td>\n",
       "      <td>NaN</td>\n",
       "      <td>San Francisco</td>\n",
       "      <td>NaN</td>\n",
       "    </tr>\n",
       "  </tbody>\n",
       "</table>\n",
       "<p>112491 rows × 13 columns</p>\n",
       "</div>"
      ]
     },
     "execution_count": 133,
     "metadata": {},
     "output_type": "execute_result"
    }
   ],
   "execution_count": 133
  },
  {
   "metadata": {
    "ExecuteTime": {
     "end_time": "2025-09-22T00:52:36.413491Z",
     "start_time": "2025-09-22T00:52:36.272027Z"
    }
   },
   "cell_type": "code",
   "source": [
    "df = pd.read_csv('Salaries.csv', na_values=['NaN', \"not available\", -1])\n",
    "df.fillna(100, inplace=True)\n",
    "df"
   ],
   "id": "6c2d21b7504fd63",
   "outputs": [
    {
     "data": {
      "text/plain": [
       "            Id       EmployeeName  \\\n",
       "0            1     NATHANIEL FORD   \n",
       "1            2       GARY JIMENEZ   \n",
       "2            3     ALBERT PARDINI   \n",
       "3            4  CHRISTOPHER CHONG   \n",
       "4            5    PATRICK GARDNER   \n",
       "...        ...                ...   \n",
       "148649  148650      Roy I Tillery   \n",
       "148650  148651       Not provided   \n",
       "148651  148652       Not provided   \n",
       "148652  148653       Not provided   \n",
       "148653  148654          Joe Lopez   \n",
       "\n",
       "                                              JobTitle    BasePay  \\\n",
       "0       GENERAL MANAGER-METROPOLITAN TRANSIT AUTHORITY  167411.18   \n",
       "1                      CAPTAIN III (POLICE DEPARTMENT)  155966.02   \n",
       "2                      CAPTAIN III (POLICE DEPARTMENT)  212739.13   \n",
       "3                 WIRE ROPE CABLE MAINTENANCE MECHANIC   77916.00   \n",
       "4         DEPUTY CHIEF OF DEPARTMENT,(FIRE DEPARTMENT)  134401.60   \n",
       "...                                                ...        ...   \n",
       "148649                                       Custodian       0.00   \n",
       "148650                                    Not provided     100.00   \n",
       "148651                                    Not provided     100.00   \n",
       "148652                                    Not provided     100.00   \n",
       "148653                      Counselor, Log Cabin Ranch       0.00   \n",
       "\n",
       "        OvertimePay   OtherPay  Benefits   TotalPay  TotalPayBenefits  Year  \\\n",
       "0              0.00  400184.25     100.0  567595.43         567595.43  2011   \n",
       "1         245131.88  137811.38     100.0  538909.28         538909.28  2011   \n",
       "2         106088.18   16452.60     100.0  335279.91         335279.91  2011   \n",
       "3          56120.71  198306.90     100.0  332343.61         332343.61  2011   \n",
       "4           9737.00  182234.59     100.0  326373.19         326373.19  2011   \n",
       "...             ...        ...       ...        ...               ...   ...   \n",
       "148649         0.00       0.00       0.0       0.00              0.00  2014   \n",
       "148650       100.00     100.00     100.0       0.00              0.00  2014   \n",
       "148651       100.00     100.00     100.0       0.00              0.00  2014   \n",
       "148652       100.00     100.00     100.0       0.00              0.00  2014   \n",
       "148653         0.00    -618.13       0.0    -618.13           -618.13  2014   \n",
       "\n",
       "        Notes         Agency  Status  \n",
       "0       100.0  San Francisco   100.0  \n",
       "1       100.0  San Francisco   100.0  \n",
       "2       100.0  San Francisco   100.0  \n",
       "3       100.0  San Francisco   100.0  \n",
       "4       100.0  San Francisco   100.0  \n",
       "...       ...            ...     ...  \n",
       "148649  100.0  San Francisco   100.0  \n",
       "148650  100.0  San Francisco   100.0  \n",
       "148651  100.0  San Francisco   100.0  \n",
       "148652  100.0  San Francisco   100.0  \n",
       "148653  100.0  San Francisco   100.0  \n",
       "\n",
       "[148654 rows x 13 columns]"
      ],
      "text/html": [
       "<div>\n",
       "<style scoped>\n",
       "    .dataframe tbody tr th:only-of-type {\n",
       "        vertical-align: middle;\n",
       "    }\n",
       "\n",
       "    .dataframe tbody tr th {\n",
       "        vertical-align: top;\n",
       "    }\n",
       "\n",
       "    .dataframe thead th {\n",
       "        text-align: right;\n",
       "    }\n",
       "</style>\n",
       "<table border=\"1\" class=\"dataframe\">\n",
       "  <thead>\n",
       "    <tr style=\"text-align: right;\">\n",
       "      <th></th>\n",
       "      <th>Id</th>\n",
       "      <th>EmployeeName</th>\n",
       "      <th>JobTitle</th>\n",
       "      <th>BasePay</th>\n",
       "      <th>OvertimePay</th>\n",
       "      <th>OtherPay</th>\n",
       "      <th>Benefits</th>\n",
       "      <th>TotalPay</th>\n",
       "      <th>TotalPayBenefits</th>\n",
       "      <th>Year</th>\n",
       "      <th>Notes</th>\n",
       "      <th>Agency</th>\n",
       "      <th>Status</th>\n",
       "    </tr>\n",
       "  </thead>\n",
       "  <tbody>\n",
       "    <tr>\n",
       "      <th>0</th>\n",
       "      <td>1</td>\n",
       "      <td>NATHANIEL FORD</td>\n",
       "      <td>GENERAL MANAGER-METROPOLITAN TRANSIT AUTHORITY</td>\n",
       "      <td>167411.18</td>\n",
       "      <td>0.00</td>\n",
       "      <td>400184.25</td>\n",
       "      <td>100.0</td>\n",
       "      <td>567595.43</td>\n",
       "      <td>567595.43</td>\n",
       "      <td>2011</td>\n",
       "      <td>100.0</td>\n",
       "      <td>San Francisco</td>\n",
       "      <td>100.0</td>\n",
       "    </tr>\n",
       "    <tr>\n",
       "      <th>1</th>\n",
       "      <td>2</td>\n",
       "      <td>GARY JIMENEZ</td>\n",
       "      <td>CAPTAIN III (POLICE DEPARTMENT)</td>\n",
       "      <td>155966.02</td>\n",
       "      <td>245131.88</td>\n",
       "      <td>137811.38</td>\n",
       "      <td>100.0</td>\n",
       "      <td>538909.28</td>\n",
       "      <td>538909.28</td>\n",
       "      <td>2011</td>\n",
       "      <td>100.0</td>\n",
       "      <td>San Francisco</td>\n",
       "      <td>100.0</td>\n",
       "    </tr>\n",
       "    <tr>\n",
       "      <th>2</th>\n",
       "      <td>3</td>\n",
       "      <td>ALBERT PARDINI</td>\n",
       "      <td>CAPTAIN III (POLICE DEPARTMENT)</td>\n",
       "      <td>212739.13</td>\n",
       "      <td>106088.18</td>\n",
       "      <td>16452.60</td>\n",
       "      <td>100.0</td>\n",
       "      <td>335279.91</td>\n",
       "      <td>335279.91</td>\n",
       "      <td>2011</td>\n",
       "      <td>100.0</td>\n",
       "      <td>San Francisco</td>\n",
       "      <td>100.0</td>\n",
       "    </tr>\n",
       "    <tr>\n",
       "      <th>3</th>\n",
       "      <td>4</td>\n",
       "      <td>CHRISTOPHER CHONG</td>\n",
       "      <td>WIRE ROPE CABLE MAINTENANCE MECHANIC</td>\n",
       "      <td>77916.00</td>\n",
       "      <td>56120.71</td>\n",
       "      <td>198306.90</td>\n",
       "      <td>100.0</td>\n",
       "      <td>332343.61</td>\n",
       "      <td>332343.61</td>\n",
       "      <td>2011</td>\n",
       "      <td>100.0</td>\n",
       "      <td>San Francisco</td>\n",
       "      <td>100.0</td>\n",
       "    </tr>\n",
       "    <tr>\n",
       "      <th>4</th>\n",
       "      <td>5</td>\n",
       "      <td>PATRICK GARDNER</td>\n",
       "      <td>DEPUTY CHIEF OF DEPARTMENT,(FIRE DEPARTMENT)</td>\n",
       "      <td>134401.60</td>\n",
       "      <td>9737.00</td>\n",
       "      <td>182234.59</td>\n",
       "      <td>100.0</td>\n",
       "      <td>326373.19</td>\n",
       "      <td>326373.19</td>\n",
       "      <td>2011</td>\n",
       "      <td>100.0</td>\n",
       "      <td>San Francisco</td>\n",
       "      <td>100.0</td>\n",
       "    </tr>\n",
       "    <tr>\n",
       "      <th>...</th>\n",
       "      <td>...</td>\n",
       "      <td>...</td>\n",
       "      <td>...</td>\n",
       "      <td>...</td>\n",
       "      <td>...</td>\n",
       "      <td>...</td>\n",
       "      <td>...</td>\n",
       "      <td>...</td>\n",
       "      <td>...</td>\n",
       "      <td>...</td>\n",
       "      <td>...</td>\n",
       "      <td>...</td>\n",
       "      <td>...</td>\n",
       "    </tr>\n",
       "    <tr>\n",
       "      <th>148649</th>\n",
       "      <td>148650</td>\n",
       "      <td>Roy I Tillery</td>\n",
       "      <td>Custodian</td>\n",
       "      <td>0.00</td>\n",
       "      <td>0.00</td>\n",
       "      <td>0.00</td>\n",
       "      <td>0.0</td>\n",
       "      <td>0.00</td>\n",
       "      <td>0.00</td>\n",
       "      <td>2014</td>\n",
       "      <td>100.0</td>\n",
       "      <td>San Francisco</td>\n",
       "      <td>100.0</td>\n",
       "    </tr>\n",
       "    <tr>\n",
       "      <th>148650</th>\n",
       "      <td>148651</td>\n",
       "      <td>Not provided</td>\n",
       "      <td>Not provided</td>\n",
       "      <td>100.00</td>\n",
       "      <td>100.00</td>\n",
       "      <td>100.00</td>\n",
       "      <td>100.0</td>\n",
       "      <td>0.00</td>\n",
       "      <td>0.00</td>\n",
       "      <td>2014</td>\n",
       "      <td>100.0</td>\n",
       "      <td>San Francisco</td>\n",
       "      <td>100.0</td>\n",
       "    </tr>\n",
       "    <tr>\n",
       "      <th>148651</th>\n",
       "      <td>148652</td>\n",
       "      <td>Not provided</td>\n",
       "      <td>Not provided</td>\n",
       "      <td>100.00</td>\n",
       "      <td>100.00</td>\n",
       "      <td>100.00</td>\n",
       "      <td>100.0</td>\n",
       "      <td>0.00</td>\n",
       "      <td>0.00</td>\n",
       "      <td>2014</td>\n",
       "      <td>100.0</td>\n",
       "      <td>San Francisco</td>\n",
       "      <td>100.0</td>\n",
       "    </tr>\n",
       "    <tr>\n",
       "      <th>148652</th>\n",
       "      <td>148653</td>\n",
       "      <td>Not provided</td>\n",
       "      <td>Not provided</td>\n",
       "      <td>100.00</td>\n",
       "      <td>100.00</td>\n",
       "      <td>100.00</td>\n",
       "      <td>100.0</td>\n",
       "      <td>0.00</td>\n",
       "      <td>0.00</td>\n",
       "      <td>2014</td>\n",
       "      <td>100.0</td>\n",
       "      <td>San Francisco</td>\n",
       "      <td>100.0</td>\n",
       "    </tr>\n",
       "    <tr>\n",
       "      <th>148653</th>\n",
       "      <td>148654</td>\n",
       "      <td>Joe Lopez</td>\n",
       "      <td>Counselor, Log Cabin Ranch</td>\n",
       "      <td>0.00</td>\n",
       "      <td>0.00</td>\n",
       "      <td>-618.13</td>\n",
       "      <td>0.0</td>\n",
       "      <td>-618.13</td>\n",
       "      <td>-618.13</td>\n",
       "      <td>2014</td>\n",
       "      <td>100.0</td>\n",
       "      <td>San Francisco</td>\n",
       "      <td>100.0</td>\n",
       "    </tr>\n",
       "  </tbody>\n",
       "</table>\n",
       "<p>148654 rows × 13 columns</p>\n",
       "</div>"
      ]
     },
     "execution_count": 130,
     "metadata": {},
     "output_type": "execute_result"
    }
   ],
   "execution_count": 130
  },
  {
   "metadata": {
    "ExecuteTime": {
     "end_time": "2025-09-22T00:57:46.689857Z",
     "start_time": "2025-09-22T00:57:46.559230Z"
    }
   },
   "cell_type": "code",
   "source": [
    "df = pd.read_csv('Salaries.csv')\n",
    "\n",
    "# df.loc[7:20:2,'EmployeeName']\n",
    "df.loc[[1,3,4,10],'EmployeeName':\"BasePay\"]\n"
   ],
   "id": "500b137a595fec88",
   "outputs": [
    {
     "data": {
      "text/plain": [
       "         EmployeeName                                          JobTitle  \\\n",
       "1        GARY JIMENEZ                   CAPTAIN III (POLICE DEPARTMENT)   \n",
       "3   CHRISTOPHER CHONG              WIRE ROPE CABLE MAINTENANCE MECHANIC   \n",
       "4     PATRICK GARDNER      DEPUTY CHIEF OF DEPARTMENT,(FIRE DEPARTMENT)   \n",
       "10      ARTHUR KENNEY  ASSISTANT CHIEF OF DEPARTMENT, (FIRE DEPARTMENT)   \n",
       "\n",
       "      BasePay  \n",
       "1   155966.02  \n",
       "3    77916.00  \n",
       "4   134401.60  \n",
       "10  194999.39  "
      ],
      "text/html": [
       "<div>\n",
       "<style scoped>\n",
       "    .dataframe tbody tr th:only-of-type {\n",
       "        vertical-align: middle;\n",
       "    }\n",
       "\n",
       "    .dataframe tbody tr th {\n",
       "        vertical-align: top;\n",
       "    }\n",
       "\n",
       "    .dataframe thead th {\n",
       "        text-align: right;\n",
       "    }\n",
       "</style>\n",
       "<table border=\"1\" class=\"dataframe\">\n",
       "  <thead>\n",
       "    <tr style=\"text-align: right;\">\n",
       "      <th></th>\n",
       "      <th>EmployeeName</th>\n",
       "      <th>JobTitle</th>\n",
       "      <th>BasePay</th>\n",
       "    </tr>\n",
       "  </thead>\n",
       "  <tbody>\n",
       "    <tr>\n",
       "      <th>1</th>\n",
       "      <td>GARY JIMENEZ</td>\n",
       "      <td>CAPTAIN III (POLICE DEPARTMENT)</td>\n",
       "      <td>155966.02</td>\n",
       "    </tr>\n",
       "    <tr>\n",
       "      <th>3</th>\n",
       "      <td>CHRISTOPHER CHONG</td>\n",
       "      <td>WIRE ROPE CABLE MAINTENANCE MECHANIC</td>\n",
       "      <td>77916.00</td>\n",
       "    </tr>\n",
       "    <tr>\n",
       "      <th>4</th>\n",
       "      <td>PATRICK GARDNER</td>\n",
       "      <td>DEPUTY CHIEF OF DEPARTMENT,(FIRE DEPARTMENT)</td>\n",
       "      <td>134401.60</td>\n",
       "    </tr>\n",
       "    <tr>\n",
       "      <th>10</th>\n",
       "      <td>ARTHUR KENNEY</td>\n",
       "      <td>ASSISTANT CHIEF OF DEPARTMENT, (FIRE DEPARTMENT)</td>\n",
       "      <td>194999.39</td>\n",
       "    </tr>\n",
       "  </tbody>\n",
       "</table>\n",
       "</div>"
      ]
     },
     "execution_count": 145,
     "metadata": {},
     "output_type": "execute_result"
    }
   ],
   "execution_count": 145
  },
  {
   "metadata": {
    "ExecuteTime": {
     "end_time": "2025-09-22T01:00:24.977494Z",
     "start_time": "2025-09-22T01:00:24.870848Z"
    }
   },
   "cell_type": "code",
   "source": [
    "dup = df.duplicated()\n",
    "df.drop_duplicates(inplace=True)\n",
    "\n",
    "df.head(1)"
   ],
   "id": "4cc492706f29bdcf",
   "outputs": [
    {
     "data": {
      "text/plain": [
       "   Id    EmployeeName                                        JobTitle  \\\n",
       "0   1  NATHANIEL FORD  GENERAL MANAGER-METROPOLITAN TRANSIT AUTHORITY   \n",
       "\n",
       "     BasePay  OvertimePay   OtherPay  Benefits   TotalPay  TotalPayBenefits  \\\n",
       "0  167411.18          0.0  400184.25       NaN  567595.43         567595.43   \n",
       "\n",
       "   Year  Notes         Agency  Status  \n",
       "0  2011    NaN  San Francisco     NaN  "
      ],
      "text/html": [
       "<div>\n",
       "<style scoped>\n",
       "    .dataframe tbody tr th:only-of-type {\n",
       "        vertical-align: middle;\n",
       "    }\n",
       "\n",
       "    .dataframe tbody tr th {\n",
       "        vertical-align: top;\n",
       "    }\n",
       "\n",
       "    .dataframe thead th {\n",
       "        text-align: right;\n",
       "    }\n",
       "</style>\n",
       "<table border=\"1\" class=\"dataframe\">\n",
       "  <thead>\n",
       "    <tr style=\"text-align: right;\">\n",
       "      <th></th>\n",
       "      <th>Id</th>\n",
       "      <th>EmployeeName</th>\n",
       "      <th>JobTitle</th>\n",
       "      <th>BasePay</th>\n",
       "      <th>OvertimePay</th>\n",
       "      <th>OtherPay</th>\n",
       "      <th>Benefits</th>\n",
       "      <th>TotalPay</th>\n",
       "      <th>TotalPayBenefits</th>\n",
       "      <th>Year</th>\n",
       "      <th>Notes</th>\n",
       "      <th>Agency</th>\n",
       "      <th>Status</th>\n",
       "    </tr>\n",
       "  </thead>\n",
       "  <tbody>\n",
       "    <tr>\n",
       "      <th>0</th>\n",
       "      <td>1</td>\n",
       "      <td>NATHANIEL FORD</td>\n",
       "      <td>GENERAL MANAGER-METROPOLITAN TRANSIT AUTHORITY</td>\n",
       "      <td>167411.18</td>\n",
       "      <td>0.0</td>\n",
       "      <td>400184.25</td>\n",
       "      <td>NaN</td>\n",
       "      <td>567595.43</td>\n",
       "      <td>567595.43</td>\n",
       "      <td>2011</td>\n",
       "      <td>NaN</td>\n",
       "      <td>San Francisco</td>\n",
       "      <td>NaN</td>\n",
       "    </tr>\n",
       "  </tbody>\n",
       "</table>\n",
       "</div>"
      ]
     },
     "execution_count": 153,
     "metadata": {},
     "output_type": "execute_result"
    }
   ],
   "execution_count": 153
  },
  {
   "metadata": {
    "ExecuteTime": {
     "end_time": "2025-09-22T01:00:58.047688Z",
     "start_time": "2025-09-22T01:00:58.001414Z"
    }
   },
   "cell_type": "code",
   "source": "df.corr(numeric_only=True)",
   "id": "4acb95c6dea3571c",
   "outputs": [
    {
     "data": {
      "text/plain": [
       "                        Id   BasePay  OvertimePay  OtherPay  Benefits  \\\n",
       "Id                1.000000 -0.204878    -0.081505 -0.100403 -0.348957   \n",
       "BasePay          -0.204878  1.000000     0.266740  0.285655  0.918028   \n",
       "OvertimePay      -0.081505  0.266740     1.000000  0.316592  0.301207   \n",
       "OtherPay         -0.100403  0.285655     0.316592  1.000000  0.233178   \n",
       "Benefits         -0.348957  0.918028     0.301207  0.233178  1.000000   \n",
       "TotalPay         -0.211478  0.954494     0.504859  0.470496  0.884097   \n",
       "TotalPayBenefits -0.092190  0.946595     0.467981  0.422341  0.930140   \n",
       "Year              0.968171  0.033751     0.027887 -0.002499 -0.043136   \n",
       "Notes                  NaN       NaN          NaN       NaN       NaN   \n",
       "Status                 NaN       NaN          NaN       NaN       NaN   \n",
       "\n",
       "                  TotalPay  TotalPayBenefits      Year  Notes  Status  \n",
       "Id               -0.211478         -0.092190  0.968171    NaN     NaN  \n",
       "BasePay           0.954494          0.946595  0.033751    NaN     NaN  \n",
       "OvertimePay       0.504859          0.467981  0.027887    NaN     NaN  \n",
       "OtherPay          0.470496          0.422341 -0.002499    NaN     NaN  \n",
       "Benefits          0.884097          0.930140 -0.043136    NaN     NaN  \n",
       "TotalPay          1.000000          0.977313  0.032090    NaN     NaN  \n",
       "TotalPayBenefits  0.977313          1.000000  0.151947    NaN     NaN  \n",
       "Year              0.032090          0.151947  1.000000    NaN     NaN  \n",
       "Notes                  NaN               NaN       NaN    NaN     NaN  \n",
       "Status                 NaN               NaN       NaN    NaN     NaN  "
      ],
      "text/html": [
       "<div>\n",
       "<style scoped>\n",
       "    .dataframe tbody tr th:only-of-type {\n",
       "        vertical-align: middle;\n",
       "    }\n",
       "\n",
       "    .dataframe tbody tr th {\n",
       "        vertical-align: top;\n",
       "    }\n",
       "\n",
       "    .dataframe thead th {\n",
       "        text-align: right;\n",
       "    }\n",
       "</style>\n",
       "<table border=\"1\" class=\"dataframe\">\n",
       "  <thead>\n",
       "    <tr style=\"text-align: right;\">\n",
       "      <th></th>\n",
       "      <th>Id</th>\n",
       "      <th>BasePay</th>\n",
       "      <th>OvertimePay</th>\n",
       "      <th>OtherPay</th>\n",
       "      <th>Benefits</th>\n",
       "      <th>TotalPay</th>\n",
       "      <th>TotalPayBenefits</th>\n",
       "      <th>Year</th>\n",
       "      <th>Notes</th>\n",
       "      <th>Status</th>\n",
       "    </tr>\n",
       "  </thead>\n",
       "  <tbody>\n",
       "    <tr>\n",
       "      <th>Id</th>\n",
       "      <td>1.000000</td>\n",
       "      <td>-0.204878</td>\n",
       "      <td>-0.081505</td>\n",
       "      <td>-0.100403</td>\n",
       "      <td>-0.348957</td>\n",
       "      <td>-0.211478</td>\n",
       "      <td>-0.092190</td>\n",
       "      <td>0.968171</td>\n",
       "      <td>NaN</td>\n",
       "      <td>NaN</td>\n",
       "    </tr>\n",
       "    <tr>\n",
       "      <th>BasePay</th>\n",
       "      <td>-0.204878</td>\n",
       "      <td>1.000000</td>\n",
       "      <td>0.266740</td>\n",
       "      <td>0.285655</td>\n",
       "      <td>0.918028</td>\n",
       "      <td>0.954494</td>\n",
       "      <td>0.946595</td>\n",
       "      <td>0.033751</td>\n",
       "      <td>NaN</td>\n",
       "      <td>NaN</td>\n",
       "    </tr>\n",
       "    <tr>\n",
       "      <th>OvertimePay</th>\n",
       "      <td>-0.081505</td>\n",
       "      <td>0.266740</td>\n",
       "      <td>1.000000</td>\n",
       "      <td>0.316592</td>\n",
       "      <td>0.301207</td>\n",
       "      <td>0.504859</td>\n",
       "      <td>0.467981</td>\n",
       "      <td>0.027887</td>\n",
       "      <td>NaN</td>\n",
       "      <td>NaN</td>\n",
       "    </tr>\n",
       "    <tr>\n",
       "      <th>OtherPay</th>\n",
       "      <td>-0.100403</td>\n",
       "      <td>0.285655</td>\n",
       "      <td>0.316592</td>\n",
       "      <td>1.000000</td>\n",
       "      <td>0.233178</td>\n",
       "      <td>0.470496</td>\n",
       "      <td>0.422341</td>\n",
       "      <td>-0.002499</td>\n",
       "      <td>NaN</td>\n",
       "      <td>NaN</td>\n",
       "    </tr>\n",
       "    <tr>\n",
       "      <th>Benefits</th>\n",
       "      <td>-0.348957</td>\n",
       "      <td>0.918028</td>\n",
       "      <td>0.301207</td>\n",
       "      <td>0.233178</td>\n",
       "      <td>1.000000</td>\n",
       "      <td>0.884097</td>\n",
       "      <td>0.930140</td>\n",
       "      <td>-0.043136</td>\n",
       "      <td>NaN</td>\n",
       "      <td>NaN</td>\n",
       "    </tr>\n",
       "    <tr>\n",
       "      <th>TotalPay</th>\n",
       "      <td>-0.211478</td>\n",
       "      <td>0.954494</td>\n",
       "      <td>0.504859</td>\n",
       "      <td>0.470496</td>\n",
       "      <td>0.884097</td>\n",
       "      <td>1.000000</td>\n",
       "      <td>0.977313</td>\n",
       "      <td>0.032090</td>\n",
       "      <td>NaN</td>\n",
       "      <td>NaN</td>\n",
       "    </tr>\n",
       "    <tr>\n",
       "      <th>TotalPayBenefits</th>\n",
       "      <td>-0.092190</td>\n",
       "      <td>0.946595</td>\n",
       "      <td>0.467981</td>\n",
       "      <td>0.422341</td>\n",
       "      <td>0.930140</td>\n",
       "      <td>0.977313</td>\n",
       "      <td>1.000000</td>\n",
       "      <td>0.151947</td>\n",
       "      <td>NaN</td>\n",
       "      <td>NaN</td>\n",
       "    </tr>\n",
       "    <tr>\n",
       "      <th>Year</th>\n",
       "      <td>0.968171</td>\n",
       "      <td>0.033751</td>\n",
       "      <td>0.027887</td>\n",
       "      <td>-0.002499</td>\n",
       "      <td>-0.043136</td>\n",
       "      <td>0.032090</td>\n",
       "      <td>0.151947</td>\n",
       "      <td>1.000000</td>\n",
       "      <td>NaN</td>\n",
       "      <td>NaN</td>\n",
       "    </tr>\n",
       "    <tr>\n",
       "      <th>Notes</th>\n",
       "      <td>NaN</td>\n",
       "      <td>NaN</td>\n",
       "      <td>NaN</td>\n",
       "      <td>NaN</td>\n",
       "      <td>NaN</td>\n",
       "      <td>NaN</td>\n",
       "      <td>NaN</td>\n",
       "      <td>NaN</td>\n",
       "      <td>NaN</td>\n",
       "      <td>NaN</td>\n",
       "    </tr>\n",
       "    <tr>\n",
       "      <th>Status</th>\n",
       "      <td>NaN</td>\n",
       "      <td>NaN</td>\n",
       "      <td>NaN</td>\n",
       "      <td>NaN</td>\n",
       "      <td>NaN</td>\n",
       "      <td>NaN</td>\n",
       "      <td>NaN</td>\n",
       "      <td>NaN</td>\n",
       "      <td>NaN</td>\n",
       "      <td>NaN</td>\n",
       "    </tr>\n",
       "  </tbody>\n",
       "</table>\n",
       "</div>"
      ]
     },
     "execution_count": 155,
     "metadata": {},
     "output_type": "execute_result"
    }
   ],
   "execution_count": 155
  },
  {
   "metadata": {
    "ExecuteTime": {
     "end_time": "2025-09-22T01:05:19.082156Z",
     "start_time": "2025-09-22T01:05:18.712603Z"
    }
   },
   "cell_type": "code",
   "source": [
    "import matplotlib.pyplot as plt\n",
    "\n",
    "plt.xlabel(\"Base Pay\")\n",
    "plt.ylabel(\"Overtime Pay\")\n",
    "\n",
    "plt.title(\"Pay\")\n",
    "\n",
    "plt.scatter(df[\"BasePay\"], df[\"OvertimePay\"], marker='o', linestyle='-', color='r')\n",
    "plt.legend([\"Overtime Pay\", \"Base Pay\"])"
   ],
   "id": "80eeb13e0ada4bfa",
   "outputs": [
    {
     "data": {
      "text/plain": [
       "<matplotlib.legend.Legend at 0x3170f55e0>"
      ]
     },
     "execution_count": 163,
     "metadata": {},
     "output_type": "execute_result"
    },
    {
     "data": {
      "text/plain": [
       "<Figure size 640x480 with 1 Axes>"
      ],
      "image/png": "[encoded data removed]"
     },
     "metadata": {},
     "output_type": "display_data",
     "jetTransient": {
      "display_id": null
     }
    }
   ],
   "execution_count": 163
  }
 ],
 "metadata": {
  "kernelspec": {
   "display_name": "Python 3",
   "language": "python",
   "name": "python3"
  },
  "language_info": {
   "codemirror_mode": {
    "name": "ipython",
    "version": 2
   },
   "file_extension": ".py",
   "mimetype": "text/x-python",
   "name": "python",
   "nbconvert_exporter": "python",
   "pygments_lexer": "ipython2",
   "version": "2.7.6"
  }
 },
 "nbformat": 4,
 "nbformat_minor": 5
}
