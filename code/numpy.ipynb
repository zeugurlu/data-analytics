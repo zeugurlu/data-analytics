{
 "cells": [
  {
   "metadata": {},
   "cell_type": "markdown",
   "source": "Numpy Notes",
   "id": "7ce7c91dc6543f37"
  },
  {
   "metadata": {
    "ExecuteTime": {
     "end_time": "2025-09-22T19:03:02.287671Z",
     "start_time": "2025-09-22T19:03:02.285385Z"
    }
   },
   "cell_type": "code",
   "source": "import numpy as np",
   "id": "f930b7a01d8352d6",
   "outputs": [],
   "execution_count": 3
  },
  {
   "metadata": {
    "ExecuteTime": {
     "end_time": "2025-09-22T19:04:06.379494Z",
     "start_time": "2025-09-22T19:04:06.375501Z"
    }
   },
   "cell_type": "code",
   "source": "print(np.__version__)",
   "id": "1501e5f1feb37af4",
   "outputs": [
    {
     "name": "stdout",
     "output_type": "stream",
     "text": [
      "2.0.2\n"
     ]
    }
   ],
   "execution_count": 5
  },
  {
   "metadata": {
    "ExecuteTime": {
     "end_time": "2025-09-22T19:21:21.809726Z",
     "start_time": "2025-09-22T19:21:21.803086Z"
    }
   },
   "cell_type": "code",
   "source": "np.array([1,2,3])",
   "id": "d4d496260fd64145",
   "outputs": [
    {
     "data": {
      "text/plain": [
       "array([1, 2, 3])"
      ]
     },
     "execution_count": 6,
     "metadata": {},
     "output_type": "execute_result"
    }
   ],
   "execution_count": 6
  },
  {
   "metadata": {
    "ExecuteTime": {
     "end_time": "2025-09-22T20:01:20.310951Z",
     "start_time": "2025-09-22T20:01:20.302885Z"
    }
   },
   "cell_type": "code",
   "source": [
    "matrix = [[1,2,3],[4,5,6],[7,8,9]]\n",
    "mat = np.array(matrix)\n",
    "narr = np.array([1,2,3], ndmin=2)\n",
    "mat\n"
   ],
   "id": "941a5ddedd05b255",
   "outputs": [
    {
     "data": {
      "text/plain": [
       "array([[1, 2, 3],\n",
       "       [4, 5, 6],\n",
       "       [7, 8, 9]])"
      ]
     },
     "execution_count": 74,
     "metadata": {},
     "output_type": "execute_result"
    }
   ],
   "execution_count": 74
  },
  {
   "metadata": {
    "ExecuteTime": {
     "end_time": "2025-09-22T20:09:24.911035Z",
     "start_time": "2025-09-22T20:09:24.904434Z"
    }
   },
   "cell_type": "code",
   "source": [
    "print(mat.ndim)\n",
    "print(narr.ndim)\n",
    "print(narr.shape)"
   ],
   "id": "e292fbc48b44017c",
   "outputs": [
    {
     "name": "stdout",
     "output_type": "stream",
     "text": [
      "2\n",
      "2\n",
      "(1, 3)\n"
     ]
    }
   ],
   "execution_count": 84
  },
  {
   "metadata": {
    "ExecuteTime": {
     "end_time": "2025-09-22T19:24:04.838732Z",
     "start_time": "2025-09-22T19:24:04.833846Z"
    }
   },
   "cell_type": "code",
   "outputs": [
    {
     "data": {
      "text/plain": [
       "array([0, 1, 2, 3, 4, 5, 6, 7, 8, 9])"
      ]
     },
     "execution_count": 16,
     "metadata": {},
     "output_type": "execute_result"
    }
   ],
   "execution_count": 16,
   "source": "np.arange(0,10)",
   "id": "6a94bd5db30c24e3"
  },
  {
   "metadata": {
    "ExecuteTime": {
     "end_time": "2025-09-22T19:24:26.327155Z",
     "start_time": "2025-09-22T19:24:26.322987Z"
    }
   },
   "cell_type": "code",
   "outputs": [
    {
     "data": {
      "text/plain": [
       "array([0, 2, 4, 6, 8])"
      ]
     },
     "execution_count": 17,
     "metadata": {},
     "output_type": "execute_result"
    }
   ],
   "execution_count": 17,
   "source": "np.arange(0,10,2)",
   "id": "dab7d54e34cbde9f"
  },
  {
   "metadata": {
    "ExecuteTime": {
     "end_time": "2025-09-22T19:24:48.065906Z",
     "start_time": "2025-09-22T19:24:48.059581Z"
    }
   },
   "cell_type": "code",
   "outputs": [
    {
     "data": {
      "text/plain": [
       "array([0., 0.])"
      ]
     },
     "execution_count": 19,
     "metadata": {},
     "output_type": "execute_result"
    }
   ],
   "execution_count": 19,
   "source": "np.zeros(2)",
   "id": "82c6d5fe39740551"
  },
  {
   "metadata": {
    "ExecuteTime": {
     "end_time": "2025-09-22T19:25:03.657172Z",
     "start_time": "2025-09-22T19:25:03.652095Z"
    }
   },
   "cell_type": "code",
   "outputs": [
    {
     "data": {
      "text/plain": [
       "array([[1., 1.],\n",
       "       [1., 1.]])"
      ]
     },
     "execution_count": 20,
     "metadata": {},
     "output_type": "execute_result"
    }
   ],
   "execution_count": 20,
   "source": "np.ones((2,2))",
   "id": "9dee5eb0ee6829ea"
  },
  {
   "metadata": {
    "ExecuteTime": {
     "end_time": "2025-09-22T19:25:25.140384Z",
     "start_time": "2025-09-22T19:25:25.136959Z"
    }
   },
   "cell_type": "code",
   "outputs": [
    {
     "data": {
      "text/plain": [
       "array([[1., 0., 0.],\n",
       "       [0., 1., 0.],\n",
       "       [0., 0., 1.]])"
      ]
     },
     "execution_count": 21,
     "metadata": {},
     "output_type": "execute_result"
    }
   ],
   "execution_count": 21,
   "source": "np.eye(3)",
   "id": "9b41906c05bb830c"
  },
  {
   "metadata": {},
   "cell_type": "markdown",
   "source": [
    "### Linspace\n",
    "Return evenly spaced numbers over a specified interval."
   ],
   "id": "ce9de238152eb81e"
  },
  {
   "metadata": {
    "ExecuteTime": {
     "end_time": "2025-09-22T19:26:37.539423Z",
     "start_time": "2025-09-22T19:26:37.535436Z"
    }
   },
   "cell_type": "code",
   "outputs": [
    {
     "data": {
      "text/plain": [
       "array([ 0.,  5., 10.])"
      ]
     },
     "execution_count": 24,
     "metadata": {},
     "output_type": "execute_result"
    }
   ],
   "execution_count": 24,
   "source": "np.linspace(0,10,3)",
   "id": "579bdc75811ede21"
  },
  {
   "metadata": {},
   "cell_type": "markdown",
   "source": [
    "### Random\n",
    "\n",
    "### rand\n",
    "Create an array of the given shape and populate it with\n",
    "random samples from a uniform distribution\n",
    "over ``[0, 1)``."
   ],
   "id": "f120fd3f4d193633"
  },
  {
   "metadata": {
    "ExecuteTime": {
     "end_time": "2025-09-22T19:27:10.456670Z",
     "start_time": "2025-09-22T19:27:10.449659Z"
    }
   },
   "cell_type": "code",
   "outputs": [
    {
     "data": {
      "text/plain": [
       "array([-0.30087065, -1.13364116, -0.11914107])"
      ]
     },
     "execution_count": 25,
     "metadata": {},
     "output_type": "execute_result"
    }
   ],
   "execution_count": 25,
   "source": "np.random.randn(3)",
   "id": "7ea04ee2bf0d2ce6"
  },
  {
   "metadata": {},
   "cell_type": "markdown",
   "source": [
    "### randn\n",
    "\n",
    "Return a sample (or samples) from the \"standard normal\" distribution. Unlike rand which is uniform:"
   ],
   "id": "9c2057a91ad49099"
  },
  {
   "metadata": {
    "ExecuteTime": {
     "end_time": "2025-09-22T19:29:19.243708Z",
     "start_time": "2025-09-22T19:29:19.238346Z"
    }
   },
   "cell_type": "code",
   "outputs": [
    {
     "data": {
      "text/plain": [
       "array([[-0.23985155,  1.49123186, -0.61847186],\n",
       "       [-1.23464932, -0.76947111, -0.55146757],\n",
       "       [-1.39499199,  0.29307537, -0.31568577]])"
      ]
     },
     "execution_count": 26,
     "metadata": {},
     "output_type": "execute_result"
    }
   ],
   "execution_count": 26,
   "source": "np.random.randn(3,3)",
   "id": "4f3b6af068b28d39"
  },
  {
   "metadata": {
    "ExecuteTime": {
     "end_time": "2025-09-22T19:32:56.311301Z",
     "start_time": "2025-09-22T19:32:56.305181Z"
    }
   },
   "cell_type": "code",
   "outputs": [
    {
     "data": {
      "text/plain": [
       "array([60,  2, 42])"
      ]
     },
     "execution_count": 28,
     "metadata": {},
     "output_type": "execute_result"
    }
   ],
   "execution_count": 28,
   "source": "np.random.randint(1,100,3)",
   "id": "7ca84a2bbbc8fbb3"
  },
  {
   "metadata": {
    "ExecuteTime": {
     "end_time": "2025-09-22T19:35:40.647109Z",
     "start_time": "2025-09-22T19:35:40.643629Z"
    }
   },
   "cell_type": "code",
   "outputs": [
    {
     "data": {
      "text/plain": [
       "array([0, 1, 2, 3, 4])"
      ]
     },
     "execution_count": 39,
     "metadata": {},
     "output_type": "execute_result"
    }
   ],
   "execution_count": 39,
   "source": [
    "ranarr = np.arange(5)\n",
    "ranarr"
   ],
   "id": "57b4dcca1b2cb147"
  },
  {
   "metadata": {
    "ExecuteTime": {
     "end_time": "2025-09-22T19:34:44.244651Z",
     "start_time": "2025-09-22T19:34:44.241847Z"
    }
   },
   "cell_type": "code",
   "outputs": [
    {
     "data": {
      "text/plain": [
       "array([15,  1, 45, 20, 28, 34, 45, 35, 40, 48])"
      ]
     },
     "execution_count": 34,
     "metadata": {},
     "output_type": "execute_result"
    }
   ],
   "execution_count": 34,
   "source": [
    "arr = np.random.randint(0,50,10)\n",
    "arr"
   ],
   "id": "3b04a19eacf6311b"
  },
  {
   "metadata": {
    "ExecuteTime": {
     "end_time": "2025-09-22T19:34:57.772658Z",
     "start_time": "2025-09-22T19:34:57.765393Z"
    }
   },
   "cell_type": "code",
   "outputs": [
    {
     "data": {
      "text/plain": [
       "array([[15,  1],\n",
       "       [45, 20],\n",
       "       [28, 34],\n",
       "       [45, 35],\n",
       "       [40, 48]])"
      ]
     },
     "execution_count": 35,
     "metadata": {},
     "output_type": "execute_result"
    }
   ],
   "execution_count": 35,
   "source": "arr.reshape(5,2)",
   "id": "7f2ffe2f867d7fdc"
  },
  {
   "metadata": {
    "ExecuteTime": {
     "end_time": "2025-09-22T19:35:42.322673Z",
     "start_time": "2025-09-22T19:35:42.317707Z"
    }
   },
   "cell_type": "code",
   "outputs": [
    {
     "data": {
      "text/plain": [
       "np.int64(4)"
      ]
     },
     "execution_count": 40,
     "metadata": {},
     "output_type": "execute_result"
    }
   ],
   "execution_count": 40,
   "source": "ranarr.max()",
   "id": "ddd330e96bf17d9e"
  },
  {
   "metadata": {
    "ExecuteTime": {
     "end_time": "2025-09-22T19:35:53.653609Z",
     "start_time": "2025-09-22T19:35:53.649348Z"
    }
   },
   "cell_type": "code",
   "outputs": [
    {
     "data": {
      "text/plain": [
       "np.int64(4)"
      ]
     },
     "execution_count": 41,
     "metadata": {},
     "output_type": "execute_result"
    }
   ],
   "execution_count": 41,
   "source": "ranarr.argmax()",
   "id": "88bb24dc011206be"
  },
  {
   "metadata": {
    "ExecuteTime": {
     "end_time": "2025-09-22T19:35:59.651196Z",
     "start_time": "2025-09-22T19:35:59.646174Z"
    }
   },
   "cell_type": "code",
   "outputs": [
    {
     "data": {
      "text/plain": [
       "np.int64(0)"
      ]
     },
     "execution_count": 42,
     "metadata": {},
     "output_type": "execute_result"
    }
   ],
   "execution_count": 42,
   "source": "ranarr.min()",
   "id": "6244127590506e3"
  },
  {
   "metadata": {
    "ExecuteTime": {
     "end_time": "2025-09-22T19:36:08.490965Z",
     "start_time": "2025-09-22T19:36:08.484043Z"
    }
   },
   "cell_type": "code",
   "outputs": [
    {
     "data": {
      "text/plain": [
       "np.int64(0)"
      ]
     },
     "execution_count": 43,
     "metadata": {},
     "output_type": "execute_result"
    }
   ],
   "execution_count": 43,
   "source": "ranarr.argmin()",
   "id": "5c0512b6f2075184"
  },
  {
   "metadata": {
    "ExecuteTime": {
     "end_time": "2025-09-22T19:37:13.978014Z",
     "start_time": "2025-09-22T19:37:13.975095Z"
    }
   },
   "cell_type": "code",
   "outputs": [
    {
     "data": {
      "text/plain": [
       "np.int64(48)"
      ]
     },
     "execution_count": 44,
     "metadata": {},
     "output_type": "execute_result"
    }
   ],
   "execution_count": 44,
   "source": "np.max(arr)",
   "id": "31d715d3d1a916db"
  },
  {
   "metadata": {
    "ExecuteTime": {
     "end_time": "2025-09-22T19:37:30.376006Z",
     "start_time": "2025-09-22T19:37:30.371253Z"
    }
   },
   "cell_type": "code",
   "outputs": [
    {
     "data": {
      "text/plain": [
       "np.int64(9)"
      ]
     },
     "execution_count": 46,
     "metadata": {},
     "output_type": "execute_result"
    }
   ],
   "execution_count": 46,
   "source": "np.argmax(arr)",
   "id": "37b199d0f792622e"
  },
  {
   "metadata": {
    "ExecuteTime": {
     "end_time": "2025-09-22T19:37:54.730614Z",
     "start_time": "2025-09-22T19:37:54.727586Z"
    }
   },
   "cell_type": "code",
   "outputs": [
    {
     "data": {
      "text/plain": [
       "dtype('int64')"
      ]
     },
     "execution_count": 48,
     "metadata": {},
     "output_type": "execute_result"
    }
   ],
   "execution_count": 48,
   "source": "arr.dtype",
   "id": "df4ed813c794a7d0"
  },
  {
   "metadata": {
    "ExecuteTime": {
     "end_time": "2025-09-22T19:43:01.964075Z",
     "start_time": "2025-09-22T19:43:01.959889Z"
    }
   },
   "cell_type": "code",
   "outputs": [
    {
     "data": {
      "text/plain": [
       "array([[49,  3],\n",
       "       [39, 38],\n",
       "       [15,  2],\n",
       "       [13, 42],\n",
       "       [21, 15]])"
      ]
     },
     "execution_count": 59,
     "metadata": {},
     "output_type": "execute_result"
    }
   ],
   "execution_count": 59,
   "source": [
    "newarr = np.random.randint(0,50,10).reshape(5,2)\n",
    "newarr"
   ],
   "id": "113b0781e7c9fc03"
  },
  {
   "metadata": {
    "ExecuteTime": {
     "end_time": "2025-09-22T19:43:03.604668Z",
     "start_time": "2025-09-22T19:43:03.600128Z"
    }
   },
   "cell_type": "code",
   "outputs": [
    {
     "data": {
      "text/plain": [
       "array([15,  2])"
      ]
     },
     "execution_count": 60,
     "metadata": {},
     "output_type": "execute_result"
    }
   ],
   "execution_count": 60,
   "source": "newarr[2]",
   "id": "56e1ef4a8f3bd04c"
  },
  {
   "metadata": {
    "ExecuteTime": {
     "end_time": "2025-09-22T19:43:05.495706Z",
     "start_time": "2025-09-22T19:43:05.492306Z"
    }
   },
   "cell_type": "code",
   "outputs": [
    {
     "data": {
      "text/plain": [
       "array([[49,  3],\n",
       "       [39, 38]])"
      ]
     },
     "execution_count": 61,
     "metadata": {},
     "output_type": "execute_result"
    }
   ],
   "execution_count": 61,
   "source": "newarr[0:2]",
   "id": "3df103011fc409cf"
  },
  {
   "metadata": {
    "ExecuteTime": {
     "end_time": "2025-09-22T19:43:07.082226Z",
     "start_time": "2025-09-22T19:43:07.077697Z"
    }
   },
   "cell_type": "code",
   "outputs": [
    {
     "data": {
      "text/plain": [
       "array([[49,  3],\n",
       "       [39, 38],\n",
       "       [15,  2],\n",
       "       [13, 42],\n",
       "       [21, 15]])"
      ]
     },
     "execution_count": 62,
     "metadata": {},
     "output_type": "execute_result"
    }
   ],
   "execution_count": 62,
   "source": "newarr[:]",
   "id": "947f506bfb3d9b64"
  },
  {
   "metadata": {
    "ExecuteTime": {
     "end_time": "2025-09-22T19:43:09.281364Z",
     "start_time": "2025-09-22T19:43:09.278545Z"
    }
   },
   "cell_type": "code",
   "outputs": [
    {
     "data": {
      "text/plain": [
       "np.int64(49)"
      ]
     },
     "execution_count": 63,
     "metadata": {},
     "output_type": "execute_result"
    }
   ],
   "execution_count": 63,
   "source": "newarr[0][0]",
   "id": "98001ccd46ef52db"
  },
  {
   "metadata": {
    "ExecuteTime": {
     "end_time": "2025-09-22T19:43:31.042454Z",
     "start_time": "2025-09-22T19:43:31.037197Z"
    }
   },
   "cell_type": "code",
   "outputs": [
    {
     "data": {
      "text/plain": [
       "array([[49,  3],\n",
       "       [39, 38]])"
      ]
     },
     "execution_count": 64,
     "metadata": {},
     "output_type": "execute_result"
    }
   ],
   "execution_count": 64,
   "source": "newarr[0:2,0:2]",
   "id": "15ca8a8b84541e18"
  },
  {
   "metadata": {},
   "cell_type": "markdown",
   "source": "### Selection",
   "id": "4579d582585c4f8d"
  },
  {
   "metadata": {
    "ExecuteTime": {
     "end_time": "2025-09-22T19:44:06.716325Z",
     "start_time": "2025-09-22T19:44:06.712345Z"
    }
   },
   "cell_type": "code",
   "outputs": [
    {
     "data": {
      "text/plain": [
       "array([ 1,  2,  3,  4,  5,  6,  7,  8,  9, 10])"
      ]
     },
     "execution_count": 65,
     "metadata": {},
     "output_type": "execute_result"
    }
   ],
   "execution_count": 65,
   "source": [
    "arr = np.arange(1,11)\n",
    "arr"
   ],
   "id": "b78f6230c933f9c6"
  },
  {
   "metadata": {
    "ExecuteTime": {
     "end_time": "2025-09-22T19:44:15.209628Z",
     "start_time": "2025-09-22T19:44:15.204997Z"
    }
   },
   "cell_type": "code",
   "outputs": [
    {
     "data": {
      "text/plain": [
       "array([False, False, False, False,  True,  True,  True,  True,  True,\n",
       "        True])"
      ]
     },
     "execution_count": 66,
     "metadata": {},
     "output_type": "execute_result"
    }
   ],
   "execution_count": 66,
   "source": "arr > 4",
   "id": "641a5bec81bfc3c6"
  },
  {
   "metadata": {
    "ExecuteTime": {
     "end_time": "2025-09-22T19:44:32.738621Z",
     "start_time": "2025-09-22T19:44:32.733834Z"
    }
   },
   "cell_type": "code",
   "outputs": [
    {
     "data": {
      "text/plain": [
       "array([False, False, False, False,  True,  True,  True,  True,  True,\n",
       "        True])"
      ]
     },
     "execution_count": 68,
     "metadata": {},
     "output_type": "execute_result"
    }
   ],
   "execution_count": 68,
   "source": [
    "bool_arr = arr>4\n",
    "bool_arr"
   ],
   "id": "9adf6be9a748faad"
  },
  {
   "metadata": {
    "ExecuteTime": {
     "end_time": "2025-09-22T19:44:41.723675Z",
     "start_time": "2025-09-22T19:44:41.719352Z"
    }
   },
   "cell_type": "code",
   "outputs": [
    {
     "data": {
      "text/plain": [
       "array([ 5,  6,  7,  8,  9, 10])"
      ]
     },
     "execution_count": 69,
     "metadata": {},
     "output_type": "execute_result"
    }
   ],
   "execution_count": 69,
   "source": "arr[bool_arr]",
   "id": "fa79a4ae7d080cea"
  },
  {
   "metadata": {
    "ExecuteTime": {
     "end_time": "2025-09-22T19:45:02.781856Z",
     "start_time": "2025-09-22T19:45:02.776971Z"
    }
   },
   "cell_type": "code",
   "outputs": [
    {
     "data": {
      "text/plain": [
       "array([ 3,  4,  5,  6,  7,  8,  9, 10])"
      ]
     },
     "execution_count": 70,
     "metadata": {},
     "output_type": "execute_result"
    }
   ],
   "execution_count": 70,
   "source": "arr[arr>2]",
   "id": "719362c4c30eea8"
  },
  {
   "metadata": {
    "SqlCellData": {
     "variableName$1": "df_sql1"
    }
   },
   "cell_type": "code",
   "outputs": [],
   "execution_count": null,
   "source": "%%sql\n",
   "id": "3638967fb2e18b50"
  },
  {
   "metadata": {},
   "cell_type": "markdown",
   "source": "### Copy and View",
   "id": "4e1536ed7d47d379"
  },
  {
   "metadata": {
    "ExecuteTime": {
     "end_time": "2025-09-22T20:07:42.052160Z",
     "start_time": "2025-09-22T20:07:42.048531Z"
    }
   },
   "cell_type": "code",
   "source": [
    "ar1 = np.array([1,2,3,4,5])\n",
    "x = ar1.copy()\n",
    "ar1[0] = 42\n",
    "print(ar1)\n",
    "print(x)"
   ],
   "id": "fa706ce1929204c5",
   "outputs": [
    {
     "name": "stdout",
     "output_type": "stream",
     "text": [
      "[42  2  3  4  5]\n",
      "[1 2 3 4 5]\n"
     ]
    }
   ],
   "execution_count": 81
  },
  {
   "metadata": {
    "ExecuteTime": {
     "end_time": "2025-09-22T20:08:23.685625Z",
     "start_time": "2025-09-22T20:08:23.678946Z"
    }
   },
   "cell_type": "code",
   "source": [
    "ar2 = np.array([1,2,3,4,5])\n",
    "y = ar2.view()\n",
    "ar2[0] = 42\n",
    "print(ar1)\n",
    "print(y)\n",
    "\n",
    "print(x.base)\n",
    "print(y.base)"
   ],
   "id": "6befd739e4b317b8",
   "outputs": [
    {
     "name": "stdout",
     "output_type": "stream",
     "text": [
      "[42  2  3  4  5]\n",
      "[42  2  3  4  5]\n",
      "None\n",
      "[42  2  3  4  5]\n"
     ]
    }
   ],
   "execution_count": 83
  },
  {
   "metadata": {},
   "cell_type": "markdown",
   "source": "### Iterating Arrays",
   "id": "c56e3a4f34c67111"
  },
  {
   "metadata": {
    "ExecuteTime": {
     "end_time": "2025-09-22T20:12:21.486188Z",
     "start_time": "2025-09-22T20:12:21.481545Z"
    }
   },
   "cell_type": "code",
   "source": [
    "ite = np.array([1,2,3])\n",
    "ite2 = np.array([[1, 2], [4, 5]])\n",
    "\n",
    "for x in ite:\n",
    "    print(x)\n",
    "\n",
    "for x in ite2:\n",
    "    print(x)\n",
    "\n",
    "for x in ite2:\n",
    "  for y in x:\n",
    "    print(y)"
   ],
   "id": "46fa78b034b34174",
   "outputs": [
    {
     "name": "stdout",
     "output_type": "stream",
     "text": [
      "1\n",
      "2\n",
      "3\n",
      "[1 2]\n",
      "[4 5]\n",
      "1\n",
      "2\n",
      "4\n",
      "5\n"
     ]
    }
   ],
   "execution_count": 90
  },
  {
   "metadata": {
    "ExecuteTime": {
     "end_time": "2025-09-22T20:12:39.960776Z",
     "start_time": "2025-09-22T20:12:39.958280Z"
    }
   },
   "cell_type": "code",
   "source": [
    "for x in np.nditer(ite2):\n",
    "  print(x)"
   ],
   "id": "3bb6fc70016b40af",
   "outputs": [
    {
     "name": "stdout",
     "output_type": "stream",
     "text": [
      "1\n",
      "2\n",
      "4\n",
      "5\n"
     ]
    }
   ],
   "execution_count": 91
  },
  {
   "metadata": {},
   "cell_type": "markdown",
   "source": "Iterating Array With Different Data Types",
   "id": "3f67fc97d16e8041"
  },
  {
   "metadata": {
    "ExecuteTime": {
     "end_time": "2025-09-22T20:12:57.755021Z",
     "start_time": "2025-09-22T20:12:57.750114Z"
    }
   },
   "cell_type": "code",
   "outputs": [
    {
     "name": "stdout",
     "output_type": "stream",
     "text": [
      "np.bytes_(b'1')\n",
      "np.bytes_(b'2')\n",
      "np.bytes_(b'4')\n",
      "np.bytes_(b'5')\n"
     ]
    }
   ],
   "execution_count": 92,
   "source": [
    "for x in np.nditer(ite2, flags=['buffered'], op_dtypes=['S']):\n",
    "  print(x)"
   ],
   "id": "804321f478cf8d8b"
  },
  {
   "metadata": {},
   "cell_type": "markdown",
   "source": "### Joining NumPy Arrays",
   "id": "20cbe8b1f5bc78ac"
  },
  {
   "metadata": {
    "ExecuteTime": {
     "end_time": "2025-09-22T20:14:51.359988Z",
     "start_time": "2025-09-22T20:14:51.347601Z"
    }
   },
   "cell_type": "code",
   "source": [
    "array1 = np.array([1, 2, 3])\n",
    "array2 = np.array([4, 5, 6])\n",
    "\n",
    "array3 = np.concatenate((array1, array2))\n",
    "array3"
   ],
   "id": "55ccef3c98fe6a01",
   "outputs": [
    {
     "data": {
      "text/plain": [
       "array([1, 2, 3, 4, 5, 6])"
      ]
     },
     "execution_count": 94,
     "metadata": {},
     "output_type": "execute_result"
    }
   ],
   "execution_count": 94
  },
  {
   "metadata": {},
   "cell_type": "markdown",
   "source": "Join two 2-D arrays along rows (axis=1):",
   "id": "8e1126a6c68af6ef"
  },
  {
   "metadata": {
    "ExecuteTime": {
     "end_time": "2025-09-22T20:16:29.686928Z",
     "start_time": "2025-09-22T20:16:29.681531Z"
    }
   },
   "cell_type": "code",
   "source": [
    "array1 = np.array([[1, 2], [3, 4]])\n",
    "array2 = np.array([[5, 6], [7, 8]])\n",
    "\n",
    "array3 = np.concatenate((array1, array2), axis=1)\n",
    "array3"
   ],
   "id": "2943d9386fd90e61",
   "outputs": [
    {
     "data": {
      "text/plain": [
       "array([[1, 2, 5, 6],\n",
       "       [3, 4, 7, 8]])"
      ]
     },
     "execution_count": 99,
     "metadata": {},
     "output_type": "execute_result"
    }
   ],
   "execution_count": 99
  },
  {
   "metadata": {},
   "cell_type": "markdown",
   "source": "### Joining Arrays Using Stack Functions",
   "id": "552fbb8ba89bc3f0"
  },
  {
   "metadata": {
    "ExecuteTime": {
     "end_time": "2025-09-22T20:22:11.267502Z",
     "start_time": "2025-09-22T20:22:11.259258Z"
    }
   },
   "cell_type": "code",
   "source": [
    "a1 = np.array([1,2])\n",
    "a2 = np.array([3,4])\n",
    "a3 = np.stack((a1,a2),axis=1)\n",
    "a3"
   ],
   "id": "d39f59d95d689351",
   "outputs": [
    {
     "data": {
      "text/plain": [
       "array([[1, 3],\n",
       "       [2, 4]])"
      ]
     },
     "execution_count": 105,
     "metadata": {},
     "output_type": "execute_result"
    }
   ],
   "execution_count": 105
  },
  {
   "metadata": {},
   "cell_type": "markdown",
   "source": "NumPy provides a helper function: hstack() to stack along rows.",
   "id": "cb4193eaf67b1ce1"
  },
  {
   "metadata": {
    "ExecuteTime": {
     "end_time": "2025-09-22T20:22:34.217535Z",
     "start_time": "2025-09-22T20:22:34.213122Z"
    }
   },
   "cell_type": "code",
   "outputs": [
    {
     "data": {
      "text/plain": [
       "array([1, 2, 3, 4])"
      ]
     },
     "execution_count": 107,
     "metadata": {},
     "output_type": "execute_result"
    }
   ],
   "execution_count": 107,
   "source": [
    "a4 = np.hstack((a1,a2))\n",
    "a4"
   ],
   "id": "77f9ee2c2c528962"
  },
  {
   "metadata": {},
   "cell_type": "markdown",
   "source": "NumPy provides a helper function: vstack()  to stack along columns.",
   "id": "24e774260b23d6f4"
  },
  {
   "metadata": {
    "ExecuteTime": {
     "end_time": "2025-09-22T20:22:56.008252Z",
     "start_time": "2025-09-22T20:22:55.999851Z"
    }
   },
   "cell_type": "code",
   "outputs": [
    {
     "data": {
      "text/plain": [
       "array([[1, 2],\n",
       "       [3, 4]])"
      ]
     },
     "execution_count": 108,
     "metadata": {},
     "output_type": "execute_result"
    }
   ],
   "execution_count": 108,
   "source": [
    "a5 = np.vstack((a1,a2))\n",
    "a5"
   ],
   "id": "d0baf1da244a514b"
  },
  {
   "metadata": {
    "ExecuteTime": {
     "end_time": "2025-09-22T20:24:22.708987Z",
     "start_time": "2025-09-22T20:24:22.702397Z"
    }
   },
   "cell_type": "code",
   "source": [
    "a6 = np.dstack((a1,a2))\n",
    "a6"
   ],
   "id": "3b345c20e0534ae2",
   "outputs": [
    {
     "data": {
      "text/plain": [
       "array([[[1, 3],\n",
       "        [2, 4]]])"
      ]
     },
     "execution_count": 109,
     "metadata": {},
     "output_type": "execute_result"
    }
   ],
   "execution_count": 109
  },
  {
   "metadata": {},
   "cell_type": "markdown",
   "source": "### Splitting NumPy Arrays",
   "id": "56c9eb7fe224df1"
  },
  {
   "metadata": {
    "ExecuteTime": {
     "end_time": "2025-09-22T20:27:06.833640Z",
     "start_time": "2025-09-22T20:27:06.828382Z"
    }
   },
   "cell_type": "code",
   "source": [
    "ax = np.array([1,2,3,4,5,6])\n",
    "newone = np.array_split(ax,3)\n",
    "newone"
   ],
   "id": "317d8a5b502ec105",
   "outputs": [
    {
     "data": {
      "text/plain": [
       "[array([1, 2]), array([3, 4]), array([5, 6])]"
      ]
     },
     "execution_count": 113,
     "metadata": {},
     "output_type": "execute_result"
    }
   ],
   "execution_count": 113
  },
  {
   "metadata": {
    "ExecuteTime": {
     "end_time": "2025-09-22T20:27:12.052658Z",
     "start_time": "2025-09-22T20:27:12.049147Z"
    }
   },
   "cell_type": "code",
   "source": "newone[1]",
   "id": "5c776bac4a18a530",
   "outputs": [
    {
     "data": {
      "text/plain": [
       "array([3, 4])"
      ]
     },
     "execution_count": 114,
     "metadata": {},
     "output_type": "execute_result"
    }
   ],
   "execution_count": 114
  },
  {
   "metadata": {},
   "cell_type": "markdown",
   "source": "### Searching Arrays",
   "id": "f20702945d7f89de"
  },
  {
   "metadata": {
    "ExecuteTime": {
     "end_time": "2025-09-22T20:34:41.889768Z",
     "start_time": "2025-09-22T20:34:41.877640Z"
    }
   },
   "cell_type": "code",
   "source": [
    "arx = np.array([1,9, 2, 3, 4, 5, 4, 4])\n",
    "\n",
    "x = np.where(arx == 4)\n",
    "x"
   ],
   "id": "e334e70c0280f88",
   "outputs": [
    {
     "data": {
      "text/plain": [
       "(array([4, 6, 7]),)"
      ]
     },
     "execution_count": 125,
     "metadata": {},
     "output_type": "execute_result"
    }
   ],
   "execution_count": 125
  },
  {
   "metadata": {
    "ExecuteTime": {
     "end_time": "2025-09-22T20:34:45.648129Z",
     "start_time": "2025-09-22T20:34:45.642892Z"
    }
   },
   "cell_type": "code",
   "source": [
    "y = np.where(arx%2 == 0)\n",
    "y"
   ],
   "id": "58227660e13064bd",
   "outputs": [
    {
     "data": {
      "text/plain": [
       "(array([2, 4, 6, 7]),)"
      ]
     },
     "execution_count": 127,
     "metadata": {},
     "output_type": "execute_result"
    }
   ],
   "execution_count": 127
  },
  {
   "metadata": {
    "ExecuteTime": {
     "end_time": "2025-09-22T20:34:46.626983Z",
     "start_time": "2025-09-22T20:34:46.622355Z"
    }
   },
   "cell_type": "code",
   "source": [
    "x = np.searchsorted(arx,3)\n",
    "x"
   ],
   "id": "bcdb364d0873af00",
   "outputs": [
    {
     "data": {
      "text/plain": [
       "np.int64(3)"
      ]
     },
     "execution_count": 128,
     "metadata": {},
     "output_type": "execute_result"
    }
   ],
   "execution_count": 128
  },
  {
   "metadata": {
    "ExecuteTime": {
     "end_time": "2025-09-22T20:36:38.494251Z",
     "start_time": "2025-09-22T20:36:38.479919Z"
    }
   },
   "cell_type": "code",
   "source": [
    "argx = np.array([1, 3, 5, 7])\n",
    "\n",
    "arggx = np.searchsorted(argx, [2, 4, 6])\n",
    "arggx"
   ],
   "id": "375ca72b66ca4b23",
   "outputs": [
    {
     "data": {
      "text/plain": [
       "array([1, 2, 3])"
      ]
     },
     "execution_count": 130,
     "metadata": {},
     "output_type": "execute_result"
    }
   ],
   "execution_count": 130
  },
  {
   "metadata": {
    "ExecuteTime": {
     "end_time": "2025-09-22T20:37:18.562767Z",
     "start_time": "2025-09-22T20:37:18.553942Z"
    }
   },
   "cell_type": "code",
   "source": [
    "argy = np.array([9, 3, 4, 7, 1])\n",
    "\n",
    "np.sort(argy)"
   ],
   "id": "e8545877f5a641d6",
   "outputs": [
    {
     "data": {
      "text/plain": [
       "array([1, 3, 4, 7, 9])"
      ]
     },
     "execution_count": 133,
     "metadata": {},
     "output_type": "execute_result"
    }
   ],
   "execution_count": 133
  },
  {
   "metadata": {},
   "cell_type": "markdown",
   "source": "### Numpy Choice",
   "id": "77fa5306dec709e"
  },
  {
   "metadata": {
    "ExecuteTime": {
     "end_time": "2025-09-22T23:27:29.884424Z",
     "start_time": "2025-09-22T23:27:29.875292Z"
    }
   },
   "cell_type": "code",
   "source": [
    "cho = np.random.choice([1,8,2,3,9,4,5])\n",
    "cho"
   ],
   "id": "256db651315f37d6",
   "outputs": [
    {
     "data": {
      "text/plain": [
       "np.int64(8)"
      ]
     },
     "execution_count": 134,
     "metadata": {},
     "output_type": "execute_result"
    }
   ],
   "execution_count": 134
  },
  {
   "metadata": {
    "ExecuteTime": {
     "end_time": "2025-09-22T23:28:03.051828Z",
     "start_time": "2025-09-22T23:28:03.048510Z"
    }
   },
   "cell_type": "code",
   "source": [
    "cho = np.random.choice([1,8,2,3,9,4,5],(2,2))\n",
    "cho"
   ],
   "id": "ed19ef8e04d440b8",
   "outputs": [
    {
     "data": {
      "text/plain": [
       "array([[9, 8],\n",
       "       [3, 9]])"
      ]
     },
     "execution_count": 138,
     "metadata": {},
     "output_type": "execute_result"
    }
   ],
   "execution_count": 138
  },
  {
   "metadata": {},
   "cell_type": "markdown",
   "source": "The probability is set by a number between 0 and 1, where 0 means that the value will never occur and 1 means that the value will always occur.",
   "id": "4b14311e1228010b"
  },
  {
   "metadata": {
    "ExecuteTime": {
     "end_time": "2025-09-22T23:30:39.478640Z",
     "start_time": "2025-09-22T23:30:39.473443Z"
    }
   },
   "cell_type": "code",
   "source": [
    "cho1 = np.random.choice([1,8,2,3], p = [0.4, 0.3, 0.3, 0.0], size=5)\n",
    "cho1\n"
   ],
   "id": "a32986581e6162ad",
   "outputs": [
    {
     "data": {
      "text/plain": [
       "array([2, 8, 2, 1, 2])"
      ]
     },
     "execution_count": 141,
     "metadata": {},
     "output_type": "execute_result"
    }
   ],
   "execution_count": 141
  },
  {
   "metadata": {},
   "cell_type": "markdown",
   "source": "### Shuffling Arrays",
   "id": "e253976819801f8"
  },
  {
   "metadata": {},
   "cell_type": "markdown",
   "source": "Shuffle means changing arrangement of elements in-place. i.e. in the array itself.",
   "id": "38f244fe5378605a"
  },
  {
   "metadata": {
    "ExecuteTime": {
     "end_time": "2025-09-22T23:33:57.917719Z",
     "start_time": "2025-09-22T23:33:57.914168Z"
    }
   },
   "cell_type": "code",
   "source": [
    "ax1 = np.array([1,2,3,4,5,6])\n",
    "shf = np.random.shuffle(ax1)\n",
    "print(ax1)\n",
    "\n",
    "print(np.random.permutation(ax1))"
   ],
   "id": "186fd1b28d97a7c0",
   "outputs": [
    {
     "name": "stdout",
     "output_type": "stream",
     "text": [
      "[4 2 1 5 6 3]\n",
      "[4 6 5 2 1 3]\n"
     ]
    }
   ],
   "execution_count": 148
  },
  {
   "metadata": {},
   "cell_type": "markdown",
   "source": "The permutation() method returns a re-arranged array (and leaves the original array un-changed).",
   "id": "32649ee57c6b863"
  },
  {
   "metadata": {},
   "cell_type": "markdown",
   "source": "## Seaborn",
   "id": "53a99d96d576d4cc"
  },
  {
   "metadata": {},
   "cell_type": "markdown",
   "source": "Seaborn is a library that uses Matplotlib underneath to plot graphs. It will be used to visualize random distributions.",
   "id": "8a012e77254bdc7b"
  },
  {
   "metadata": {
    "ExecuteTime": {
     "end_time": "2025-09-22T23:36:02.361405Z",
     "start_time": "2025-09-22T23:36:02.358206Z"
    }
   },
   "cell_type": "code",
   "source": "import matplotlib.pyplot as plt",
   "id": "cca2743a41b938c9",
   "outputs": [],
   "execution_count": 152
  },
  {
   "metadata": {
    "ExecuteTime": {
     "end_time": "2025-09-22T23:36:03.572044Z",
     "start_time": "2025-09-22T23:36:03.569226Z"
    }
   },
   "cell_type": "code",
   "source": "import seaborn as sns",
   "id": "fc1f89e931569129",
   "outputs": [],
   "execution_count": 153
  },
  {
   "metadata": {
    "ExecuteTime": {
     "end_time": "2025-09-22T23:36:58.923219Z",
     "start_time": "2025-09-22T23:36:58.845131Z"
    }
   },
   "cell_type": "code",
   "source": [
    "sns.displot([0, 1, 2, 3, 4, 5])\n",
    "\n",
    "plt.show()"
   ],
   "id": "da8ca3f56a6c6e2f",
   "outputs": [
    {
     "data": {
      "text/plain": [
       "<Figure size 500x500 with 1 Axes>"
      ],
      "image/png": "[encoded data removed]"
     },
     "metadata": {},
     "output_type": "display_data",
     "jetTransient": {
      "display_id": null
     }
    }
   ],
   "execution_count": 158
  },
  {
   "metadata": {
    "ExecuteTime": {
     "end_time": "2025-09-22T23:37:07.291013Z",
     "start_time": "2025-09-22T23:37:07.213587Z"
    }
   },
   "cell_type": "code",
   "source": [
    "sns.displot([0, 1, 2, 3, 4, 5], kind='kde')\n",
    "\n",
    "plt.show()"
   ],
   "id": "a5191c5d914ca4d2",
   "outputs": [
    {
     "data": {
      "text/plain": [
       "<Figure size 500x500 with 1 Axes>"
      ],
      "image/png": "[encoded data removed]"
     },
     "metadata": {},
     "output_type": "display_data",
     "jetTransient": {
      "display_id": null
     }
    }
   ],
   "execution_count": 159
  }
 ],
 "metadata": {
  "kernelspec": {
   "display_name": "Python 3",
   "language": "python",
   "name": "python3"
  },
  "language_info": {
   "codemirror_mode": {
    "name": "ipython",
    "version": 2
   },
   "file_extension": ".py",
   "mimetype": "text/x-python",
   "name": "python",
   "nbconvert_exporter": "python",
   "pygments_lexer": "ipython2",
   "version": "2.7.6"
  }
 },
 "nbformat": 4,
 "nbformat_minor": 5
}
