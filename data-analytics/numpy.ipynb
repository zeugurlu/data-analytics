{
 "cells": [
  {
   "metadata": {},
   "cell_type": "markdown",
   "source": "Numpy Notes",
   "id": "7ce7c91dc6543f37"
  },
  {
   "metadata": {
    "ExecuteTime": {
     "end_time": "2025-09-23T17:06:14.119856Z",
     "start_time": "2025-09-23T17:06:14.114376Z"
    }
   },
   "cell_type": "code",
   "source": "import numpy as np",
   "id": "f930b7a01d8352d6",
   "outputs": [],
   "execution_count": 2
  },
  {
   "metadata": {
    "ExecuteTime": {
     "end_time": "2025-09-23T17:06:14.143092Z",
     "start_time": "2025-09-23T17:06:14.140598Z"
    }
   },
   "cell_type": "code",
   "source": "print(np.__version__)",
   "id": "1501e5f1feb37af4",
   "outputs": [
    {
     "name": "stdout",
     "output_type": "stream",
     "text": [
      "2.0.2\n"
     ]
    }
   ],
   "execution_count": 3
  },
  {
   "metadata": {
    "ExecuteTime": {
     "end_time": "2025-09-23T17:06:14.164635Z",
     "start_time": "2025-09-23T17:06:14.159895Z"
    }
   },
   "cell_type": "code",
   "source": "np.array([1,2,3])",
   "id": "d4d496260fd64145",
   "outputs": [
    {
     "data": {
      "text/plain": [
       "array([1, 2, 3])"
      ]
     },
     "execution_count": 4,
     "metadata": {},
     "output_type": "execute_result"
    }
   ],
   "execution_count": 4
  },
  {
   "metadata": {
    "ExecuteTime": {
     "end_time": "2025-09-23T17:06:14.176768Z",
     "start_time": "2025-09-23T17:06:14.173671Z"
    }
   },
   "cell_type": "code",
   "source": [
    "matrix = [[1,2,3],[4,5,6],[7,8,9]]\n",
    "mat = np.array(matrix)\n",
    "narr = np.array([1,2,3], ndmin=2)\n",
    "mat\n"
   ],
   "id": "941a5ddedd05b255",
   "outputs": [
    {
     "data": {
      "text/plain": [
       "array([[1, 2, 3],\n",
       "       [4, 5, 6],\n",
       "       [7, 8, 9]])"
      ]
     },
     "execution_count": 5,
     "metadata": {},
     "output_type": "execute_result"
    }
   ],
   "execution_count": 5
  },
  {
   "metadata": {
    "ExecuteTime": {
     "end_time": "2025-09-23T17:06:14.194524Z",
     "start_time": "2025-09-23T17:06:14.192337Z"
    }
   },
   "cell_type": "code",
   "source": [
    "print(mat.ndim)\n",
    "print(narr.ndim)\n",
    "print(narr.shape)"
   ],
   "id": "e292fbc48b44017c",
   "outputs": [
    {
     "name": "stdout",
     "output_type": "stream",
     "text": [
      "2\n",
      "2\n",
      "(1, 3)\n"
     ]
    }
   ],
   "execution_count": 6
  },
  {
   "metadata": {
    "ExecuteTime": {
     "end_time": "2025-09-23T17:06:14.249449Z",
     "start_time": "2025-09-23T17:06:14.244057Z"
    }
   },
   "cell_type": "code",
   "source": "np.arange(0,10)",
   "id": "6a94bd5db30c24e3",
   "outputs": [
    {
     "data": {
      "text/plain": [
       "array([0, 1, 2, 3, 4, 5, 6, 7, 8, 9])"
      ]
     },
     "execution_count": 7,
     "metadata": {},
     "output_type": "execute_result"
    }
   ],
   "execution_count": 7
  },
  {
   "metadata": {
    "ExecuteTime": {
     "end_time": "2025-09-23T17:06:14.345197Z",
     "start_time": "2025-09-23T17:06:14.342173Z"
    }
   },
   "cell_type": "code",
   "source": "np.arange(0,10,2)",
   "id": "dab7d54e34cbde9f",
   "outputs": [
    {
     "data": {
      "text/plain": [
       "array([0, 2, 4, 6, 8])"
      ]
     },
     "execution_count": 8,
     "metadata": {},
     "output_type": "execute_result"
    }
   ],
   "execution_count": 8
  },
  {
   "metadata": {
    "ExecuteTime": {
     "end_time": "2025-09-23T17:06:14.372035Z",
     "start_time": "2025-09-23T17:06:14.368908Z"
    }
   },
   "cell_type": "code",
   "source": "np.zeros(2)",
   "id": "82c6d5fe39740551",
   "outputs": [
    {
     "data": {
      "text/plain": [
       "array([0., 0.])"
      ]
     },
     "execution_count": 9,
     "metadata": {},
     "output_type": "execute_result"
    }
   ],
   "execution_count": 9
  },
  {
   "metadata": {
    "ExecuteTime": {
     "end_time": "2025-09-23T17:06:14.394108Z",
     "start_time": "2025-09-23T17:06:14.391233Z"
    }
   },
   "cell_type": "code",
   "source": "np.ones((2,2))",
   "id": "9dee5eb0ee6829ea",
   "outputs": [
    {
     "data": {
      "text/plain": [
       "array([[1., 1.],\n",
       "       [1., 1.]])"
      ]
     },
     "execution_count": 10,
     "metadata": {},
     "output_type": "execute_result"
    }
   ],
   "execution_count": 10
  },
  {
   "metadata": {
    "ExecuteTime": {
     "end_time": "2025-09-23T17:06:14.466140Z",
     "start_time": "2025-09-23T17:06:14.463367Z"
    }
   },
   "cell_type": "code",
   "source": "np.eye(3)",
   "id": "9b41906c05bb830c",
   "outputs": [
    {
     "data": {
      "text/plain": [
       "array([[1., 0., 0.],\n",
       "       [0., 1., 0.],\n",
       "       [0., 0., 1.]])"
      ]
     },
     "execution_count": 11,
     "metadata": {},
     "output_type": "execute_result"
    }
   ],
   "execution_count": 11
  },
  {
   "metadata": {},
   "cell_type": "markdown",
   "source": [
    "### Linspace\n",
    "Return evenly spaced numbers over a specified interval."
   ],
   "id": "ce9de238152eb81e"
  },
  {
   "metadata": {
    "ExecuteTime": {
     "end_time": "2025-09-23T17:06:14.643305Z",
     "start_time": "2025-09-23T17:06:14.638693Z"
    }
   },
   "cell_type": "code",
   "source": "np.linspace(0,10,3)",
   "id": "579bdc75811ede21",
   "outputs": [
    {
     "data": {
      "text/plain": [
       "array([ 0.,  5., 10.])"
      ]
     },
     "execution_count": 12,
     "metadata": {},
     "output_type": "execute_result"
    }
   ],
   "execution_count": 12
  },
  {
   "metadata": {},
   "cell_type": "markdown",
   "source": [
    "### Random\n",
    "\n",
    "### rand\n",
    "Create an array of the given shape and populate it with\n",
    "random samples from a uniform distribution\n",
    "over ``[0, 1)``."
   ],
   "id": "f120fd3f4d193633"
  },
  {
   "metadata": {
    "ExecuteTime": {
     "end_time": "2025-09-23T17:06:14.675122Z",
     "start_time": "2025-09-23T17:06:14.671168Z"
    }
   },
   "cell_type": "code",
   "source": "np.random.rand(3)",
   "id": "7ea04ee2bf0d2ce6",
   "outputs": [
    {
     "data": {
      "text/plain": [
       "array([0.30853126, 0.15023723, 0.17147852])"
      ]
     },
     "execution_count": 13,
     "metadata": {},
     "output_type": "execute_result"
    }
   ],
   "execution_count": 13
  },
  {
   "metadata": {},
   "cell_type": "markdown",
   "source": [
    "### randn\n",
    "\n",
    "Return a sample (or samples) from the \"standard normal\" distribution. Unlike rand which is uniform:"
   ],
   "id": "9c2057a91ad49099"
  },
  {
   "metadata": {
    "ExecuteTime": {
     "end_time": "2025-09-23T17:06:14.697989Z",
     "start_time": "2025-09-23T17:06:14.693601Z"
    }
   },
   "cell_type": "code",
   "source": "np.random.randn(3,3)",
   "id": "4f3b6af068b28d39",
   "outputs": [
    {
     "data": {
      "text/plain": [
       "array([[ 0.7743482 , -0.65114818, -0.04788486],\n",
       "       [ 0.22949382, -0.66473114, -0.90973471],\n",
       "       [ 0.35612617, -2.06354906, -0.79803233]])"
      ]
     },
     "execution_count": 14,
     "metadata": {},
     "output_type": "execute_result"
    }
   ],
   "execution_count": 14
  },
  {
   "metadata": {
    "ExecuteTime": {
     "end_time": "2025-09-23T17:06:14.755262Z",
     "start_time": "2025-09-23T17:06:14.751063Z"
    }
   },
   "cell_type": "code",
   "source": "np.random.randint(1,100,3)",
   "id": "7ca84a2bbbc8fbb3",
   "outputs": [
    {
     "data": {
      "text/plain": [
       "array([34, 84,  3])"
      ]
     },
     "execution_count": 15,
     "metadata": {},
     "output_type": "execute_result"
    }
   ],
   "execution_count": 15
  },
  {
   "metadata": {
    "ExecuteTime": {
     "end_time": "2025-09-23T17:06:14.833202Z",
     "start_time": "2025-09-23T17:06:14.829683Z"
    }
   },
   "cell_type": "code",
   "source": [
    "ranarr = np.arange(5)\n",
    "ranarr"
   ],
   "id": "57b4dcca1b2cb147",
   "outputs": [
    {
     "data": {
      "text/plain": [
       "array([0, 1, 2, 3, 4])"
      ]
     },
     "execution_count": 16,
     "metadata": {},
     "output_type": "execute_result"
    }
   ],
   "execution_count": 16
  },
  {
   "metadata": {
    "ExecuteTime": {
     "end_time": "2025-09-23T17:06:14.901859Z",
     "start_time": "2025-09-23T17:06:14.897630Z"
    }
   },
   "cell_type": "code",
   "source": [
    "arr = np.random.randint(0,50,10)\n",
    "arr"
   ],
   "id": "3b04a19eacf6311b",
   "outputs": [
    {
     "data": {
      "text/plain": [
       "array([17, 31, 49,  9, 13, 15,  4,  3,  0,  7])"
      ]
     },
     "execution_count": 17,
     "metadata": {},
     "output_type": "execute_result"
    }
   ],
   "execution_count": 17
  },
  {
   "metadata": {
    "ExecuteTime": {
     "end_time": "2025-09-23T17:06:14.926048Z",
     "start_time": "2025-09-23T17:06:14.919819Z"
    }
   },
   "cell_type": "code",
   "source": "arr.reshape(5,2)",
   "id": "7f2ffe2f867d7fdc",
   "outputs": [
    {
     "data": {
      "text/plain": [
       "array([[17, 31],\n",
       "       [49,  9],\n",
       "       [13, 15],\n",
       "       [ 4,  3],\n",
       "       [ 0,  7]])"
      ]
     },
     "execution_count": 18,
     "metadata": {},
     "output_type": "execute_result"
    }
   ],
   "execution_count": 18
  },
  {
   "metadata": {
    "ExecuteTime": {
     "end_time": "2025-09-23T17:06:14.942737Z",
     "start_time": "2025-09-23T17:06:14.938936Z"
    }
   },
   "cell_type": "code",
   "source": "ranarr.max()",
   "id": "ddd330e96bf17d9e",
   "outputs": [
    {
     "data": {
      "text/plain": [
       "np.int64(4)"
      ]
     },
     "execution_count": 19,
     "metadata": {},
     "output_type": "execute_result"
    }
   ],
   "execution_count": 19
  },
  {
   "metadata": {
    "ExecuteTime": {
     "end_time": "2025-09-23T17:06:15.008741Z",
     "start_time": "2025-09-23T17:06:15.002526Z"
    }
   },
   "cell_type": "code",
   "source": "ranarr.argmax()",
   "id": "88bb24dc011206be",
   "outputs": [
    {
     "data": {
      "text/plain": [
       "np.int64(4)"
      ]
     },
     "execution_count": 20,
     "metadata": {},
     "output_type": "execute_result"
    }
   ],
   "execution_count": 20
  },
  {
   "metadata": {
    "ExecuteTime": {
     "end_time": "2025-09-23T17:06:15.101684Z",
     "start_time": "2025-09-23T17:06:15.097141Z"
    }
   },
   "cell_type": "code",
   "source": "ranarr.min()",
   "id": "6244127590506e3",
   "outputs": [
    {
     "data": {
      "text/plain": [
       "np.int64(0)"
      ]
     },
     "execution_count": 21,
     "metadata": {},
     "output_type": "execute_result"
    }
   ],
   "execution_count": 21
  },
  {
   "metadata": {
    "ExecuteTime": {
     "end_time": "2025-09-23T17:06:15.124129Z",
     "start_time": "2025-09-23T17:06:15.120346Z"
    }
   },
   "cell_type": "code",
   "source": "ranarr.argmin()",
   "id": "5c0512b6f2075184",
   "outputs": [
    {
     "data": {
      "text/plain": [
       "np.int64(0)"
      ]
     },
     "execution_count": 22,
     "metadata": {},
     "output_type": "execute_result"
    }
   ],
   "execution_count": 22
  },
  {
   "metadata": {
    "ExecuteTime": {
     "end_time": "2025-09-23T17:06:15.163353Z",
     "start_time": "2025-09-23T17:06:15.158481Z"
    }
   },
   "cell_type": "code",
   "source": "np.max(arr)",
   "id": "31d715d3d1a916db",
   "outputs": [
    {
     "data": {
      "text/plain": [
       "np.int64(49)"
      ]
     },
     "execution_count": 23,
     "metadata": {},
     "output_type": "execute_result"
    }
   ],
   "execution_count": 23
  },
  {
   "metadata": {
    "ExecuteTime": {
     "end_time": "2025-09-23T17:06:15.184113Z",
     "start_time": "2025-09-23T17:06:15.178672Z"
    }
   },
   "cell_type": "code",
   "source": "np.argmax(arr)",
   "id": "37b199d0f792622e",
   "outputs": [
    {
     "data": {
      "text/plain": [
       "np.int64(2)"
      ]
     },
     "execution_count": 24,
     "metadata": {},
     "output_type": "execute_result"
    }
   ],
   "execution_count": 24
  },
  {
   "metadata": {
    "ExecuteTime": {
     "end_time": "2025-09-23T17:06:15.204501Z",
     "start_time": "2025-09-23T17:06:15.200053Z"
    }
   },
   "cell_type": "code",
   "source": "arr.dtype",
   "id": "df4ed813c794a7d0",
   "outputs": [
    {
     "data": {
      "text/plain": [
       "dtype('int64')"
      ]
     },
     "execution_count": 25,
     "metadata": {},
     "output_type": "execute_result"
    }
   ],
   "execution_count": 25
  },
  {
   "metadata": {
    "ExecuteTime": {
     "end_time": "2025-09-23T17:06:15.218926Z",
     "start_time": "2025-09-23T17:06:15.214579Z"
    }
   },
   "cell_type": "code",
   "source": [
    "newarr = np.random.randint(0,50,10).reshape(5,2)\n",
    "newarr"
   ],
   "id": "113b0781e7c9fc03",
   "outputs": [
    {
     "data": {
      "text/plain": [
       "array([[38, 44],\n",
       "       [47,  0],\n",
       "       [25, 21],\n",
       "       [12, 47],\n",
       "       [ 0, 18]])"
      ]
     },
     "execution_count": 26,
     "metadata": {},
     "output_type": "execute_result"
    }
   ],
   "execution_count": 26
  },
  {
   "metadata": {
    "ExecuteTime": {
     "end_time": "2025-09-23T17:06:15.238238Z",
     "start_time": "2025-09-23T17:06:15.232740Z"
    }
   },
   "cell_type": "code",
   "source": "newarr[2]",
   "id": "56e1ef4a8f3bd04c",
   "outputs": [
    {
     "data": {
      "text/plain": [
       "array([25, 21])"
      ]
     },
     "execution_count": 27,
     "metadata": {},
     "output_type": "execute_result"
    }
   ],
   "execution_count": 27
  },
  {
   "metadata": {
    "ExecuteTime": {
     "end_time": "2025-09-23T17:06:15.316140Z",
     "start_time": "2025-09-23T17:06:15.313328Z"
    }
   },
   "cell_type": "code",
   "source": "newarr[0:2]",
   "id": "3df103011fc409cf",
   "outputs": [
    {
     "data": {
      "text/plain": [
       "array([[38, 44],\n",
       "       [47,  0]])"
      ]
     },
     "execution_count": 28,
     "metadata": {},
     "output_type": "execute_result"
    }
   ],
   "execution_count": 28
  },
  {
   "metadata": {
    "ExecuteTime": {
     "end_time": "2025-09-23T17:06:15.479816Z",
     "start_time": "2025-09-23T17:06:15.475810Z"
    }
   },
   "cell_type": "code",
   "source": "newarr[:]",
   "id": "947f506bfb3d9b64",
   "outputs": [
    {
     "data": {
      "text/plain": [
       "array([[38, 44],\n",
       "       [47,  0],\n",
       "       [25, 21],\n",
       "       [12, 47],\n",
       "       [ 0, 18]])"
      ]
     },
     "execution_count": 29,
     "metadata": {},
     "output_type": "execute_result"
    }
   ],
   "execution_count": 29
  },
  {
   "metadata": {
    "ExecuteTime": {
     "end_time": "2025-09-23T17:06:15.545739Z",
     "start_time": "2025-09-23T17:06:15.542391Z"
    }
   },
   "cell_type": "code",
   "source": "newarr[0][0]",
   "id": "98001ccd46ef52db",
   "outputs": [
    {
     "data": {
      "text/plain": [
       "np.int64(38)"
      ]
     },
     "execution_count": 30,
     "metadata": {},
     "output_type": "execute_result"
    }
   ],
   "execution_count": 30
  },
  {
   "metadata": {
    "ExecuteTime": {
     "end_time": "2025-09-23T17:06:15.639886Z",
     "start_time": "2025-09-23T17:06:15.637234Z"
    }
   },
   "cell_type": "code",
   "source": "newarr[0:2,0:2]",
   "id": "15ca8a8b84541e18",
   "outputs": [
    {
     "data": {
      "text/plain": [
       "array([[38, 44],\n",
       "       [47,  0]])"
      ]
     },
     "execution_count": 31,
     "metadata": {},
     "output_type": "execute_result"
    }
   ],
   "execution_count": 31
  },
  {
   "metadata": {},
   "cell_type": "markdown",
   "source": "### Selection",
   "id": "4579d582585c4f8d"
  },
  {
   "metadata": {
    "ExecuteTime": {
     "end_time": "2025-09-23T17:06:15.715895Z",
     "start_time": "2025-09-23T17:06:15.712180Z"
    }
   },
   "cell_type": "code",
   "source": [
    "arr = np.arange(1,11)\n",
    "arr"
   ],
   "id": "b78f6230c933f9c6",
   "outputs": [
    {
     "data": {
      "text/plain": [
       "array([ 1,  2,  3,  4,  5,  6,  7,  8,  9, 10])"
      ]
     },
     "execution_count": 32,
     "metadata": {},
     "output_type": "execute_result"
    }
   ],
   "execution_count": 32
  },
  {
   "metadata": {
    "ExecuteTime": {
     "end_time": "2025-09-23T17:06:15.785984Z",
     "start_time": "2025-09-23T17:06:15.783191Z"
    }
   },
   "cell_type": "code",
   "source": "arr > 4",
   "id": "641a5bec81bfc3c6",
   "outputs": [
    {
     "data": {
      "text/plain": [
       "array([False, False, False, False,  True,  True,  True,  True,  True,\n",
       "        True])"
      ]
     },
     "execution_count": 33,
     "metadata": {},
     "output_type": "execute_result"
    }
   ],
   "execution_count": 33
  },
  {
   "metadata": {
    "ExecuteTime": {
     "end_time": "2025-09-23T17:06:15.804474Z",
     "start_time": "2025-09-23T17:06:15.800927Z"
    }
   },
   "cell_type": "code",
   "source": [
    "bool_arr = arr>4\n",
    "bool_arr"
   ],
   "id": "9adf6be9a748faad",
   "outputs": [
    {
     "data": {
      "text/plain": [
       "array([False, False, False, False,  True,  True,  True,  True,  True,\n",
       "        True])"
      ]
     },
     "execution_count": 34,
     "metadata": {},
     "output_type": "execute_result"
    }
   ],
   "execution_count": 34
  },
  {
   "metadata": {
    "ExecuteTime": {
     "end_time": "2025-09-23T17:06:15.822791Z",
     "start_time": "2025-09-23T17:06:15.819385Z"
    }
   },
   "cell_type": "code",
   "source": "arr[bool_arr]",
   "id": "fa79a4ae7d080cea",
   "outputs": [
    {
     "data": {
      "text/plain": [
       "array([ 5,  6,  7,  8,  9, 10])"
      ]
     },
     "execution_count": 35,
     "metadata": {},
     "output_type": "execute_result"
    }
   ],
   "execution_count": 35
  },
  {
   "metadata": {
    "ExecuteTime": {
     "end_time": "2025-09-23T17:06:15.841370Z",
     "start_time": "2025-09-23T17:06:15.836998Z"
    }
   },
   "cell_type": "code",
   "source": "arr[arr>2]",
   "id": "719362c4c30eea8",
   "outputs": [
    {
     "data": {
      "text/plain": [
       "array([ 3,  4,  5,  6,  7,  8,  9, 10])"
      ]
     },
     "execution_count": 36,
     "metadata": {},
     "output_type": "execute_result"
    }
   ],
   "execution_count": 36
  },
  {
   "metadata": {
    "SqlCellData": {
     "variableName$1": "df_sql1"
    },
    "ExecuteTime": {
     "end_time": "2025-09-23T17:06:15.855929Z",
     "start_time": "2025-09-23T17:06:15.847456Z"
    }
   },
   "cell_type": "code",
   "execution_count": null,
   "source": "%%sql\n",
   "id": "3638967fb2e18b50",
   "outputs": []
  },
  {
   "metadata": {},
   "cell_type": "markdown",
   "source": "### Copy and View",
   "id": "4e1536ed7d47d379"
  },
  {
   "metadata": {
    "ExecuteTime": {
     "end_time": "2025-09-23T17:06:15.866519Z",
     "start_time": "2025-09-23T17:06:15.863792Z"
    }
   },
   "cell_type": "code",
   "source": [
    "ar1 = np.array([1,2,3,4,5])\n",
    "x = ar1.copy()\n",
    "ar1[0] = 42\n",
    "print(ar1)\n",
    "print(x)"
   ],
   "id": "fa706ce1929204c5",
   "outputs": [
    {
     "name": "stdout",
     "output_type": "stream",
     "text": [
      "[42  2  3  4  5]\n",
      "[1 2 3 4 5]\n"
     ]
    }
   ],
   "execution_count": 37
  },
  {
   "metadata": {
    "ExecuteTime": {
     "end_time": "2025-09-23T17:06:15.882576Z",
     "start_time": "2025-09-23T17:06:15.879994Z"
    }
   },
   "cell_type": "code",
   "source": [
    "ar2 = np.array([1,2,3,4,5])\n",
    "y = ar2.view()\n",
    "ar2[0] = 42\n",
    "print(ar1)\n",
    "print(y)\n",
    "\n",
    "print(x.base)\n",
    "print(y.base)"
   ],
   "id": "6befd739e4b317b8",
   "outputs": [
    {
     "name": "stdout",
     "output_type": "stream",
     "text": [
      "[42  2  3  4  5]\n",
      "[42  2  3  4  5]\n",
      "None\n",
      "[42  2  3  4  5]\n"
     ]
    }
   ],
   "execution_count": 38
  },
  {
   "metadata": {},
   "cell_type": "markdown",
   "source": "### Iterating Arrays",
   "id": "c56e3a4f34c67111"
  },
  {
   "metadata": {
    "ExecuteTime": {
     "end_time": "2025-09-23T17:06:15.901328Z",
     "start_time": "2025-09-23T17:06:15.897222Z"
    }
   },
   "cell_type": "code",
   "source": [
    "ite = np.array([1,2,3])\n",
    "ite2 = np.array([[1, 2], [4, 5]])\n",
    "\n",
    "for x in ite:\n",
    "    print(x)\n",
    "\n",
    "for x in ite2:\n",
    "    print(x)\n",
    "\n",
    "for x in ite2:\n",
    "  for y in x:\n",
    "    print(y)"
   ],
   "id": "46fa78b034b34174",
   "outputs": [
    {
     "name": "stdout",
     "output_type": "stream",
     "text": [
      "1\n",
      "2\n",
      "3\n",
      "[1 2]\n",
      "[4 5]\n",
      "1\n",
      "2\n",
      "4\n",
      "5\n"
     ]
    }
   ],
   "execution_count": 39
  },
  {
   "metadata": {
    "ExecuteTime": {
     "end_time": "2025-09-23T17:06:15.914351Z",
     "start_time": "2025-09-23T17:06:15.912493Z"
    }
   },
   "cell_type": "code",
   "source": [
    "for x in np.nditer(ite2):\n",
    "  print(x)"
   ],
   "id": "3bb6fc70016b40af",
   "outputs": [
    {
     "name": "stdout",
     "output_type": "stream",
     "text": [
      "1\n",
      "2\n",
      "4\n",
      "5\n"
     ]
    }
   ],
   "execution_count": 40
  },
  {
   "metadata": {},
   "cell_type": "markdown",
   "source": "Iterating Array With Different Data Types",
   "id": "3f67fc97d16e8041"
  },
  {
   "metadata": {
    "ExecuteTime": {
     "end_time": "2025-09-23T17:06:15.941182Z",
     "start_time": "2025-09-23T17:06:15.938976Z"
    }
   },
   "cell_type": "code",
   "source": [
    "for x in np.nditer(ite2, flags=['buffered'], op_dtypes=['S']):\n",
    "  print(x)"
   ],
   "id": "804321f478cf8d8b",
   "outputs": [
    {
     "name": "stdout",
     "output_type": "stream",
     "text": [
      "np.bytes_(b'1')\n",
      "np.bytes_(b'2')\n",
      "np.bytes_(b'4')\n",
      "np.bytes_(b'5')\n"
     ]
    }
   ],
   "execution_count": 41
  },
  {
   "metadata": {},
   "cell_type": "markdown",
   "source": "### Joining NumPy Arrays",
   "id": "20cbe8b1f5bc78ac"
  },
  {
   "metadata": {
    "ExecuteTime": {
     "end_time": "2025-09-23T17:06:15.957555Z",
     "start_time": "2025-09-23T17:06:15.953764Z"
    }
   },
   "cell_type": "code",
   "source": [
    "array1 = np.array([1, 2, 3])\n",
    "array2 = np.array([4, 5, 6])\n",
    "\n",
    "array3 = np.concatenate((array1, array2))\n",
    "array3"
   ],
   "id": "55ccef3c98fe6a01",
   "outputs": [
    {
     "data": {
      "text/plain": [
       "array([1, 2, 3, 4, 5, 6])"
      ]
     },
     "execution_count": 42,
     "metadata": {},
     "output_type": "execute_result"
    }
   ],
   "execution_count": 42
  },
  {
   "metadata": {},
   "cell_type": "markdown",
   "source": "Join two 2-D arrays along rows (axis=1):",
   "id": "8e1126a6c68af6ef"
  },
  {
   "metadata": {
    "ExecuteTime": {
     "end_time": "2025-09-23T17:06:15.973303Z",
     "start_time": "2025-09-23T17:06:15.969851Z"
    }
   },
   "cell_type": "code",
   "source": [
    "array1 = np.array([[1, 2], [3, 4]])\n",
    "array2 = np.array([[5, 6], [7, 8]])\n",
    "\n",
    "array3 = np.concatenate((array1, array2), axis=1)\n",
    "array3"
   ],
   "id": "2943d9386fd90e61",
   "outputs": [
    {
     "data": {
      "text/plain": [
       "array([[1, 2, 5, 6],\n",
       "       [3, 4, 7, 8]])"
      ]
     },
     "execution_count": 43,
     "metadata": {},
     "output_type": "execute_result"
    }
   ],
   "execution_count": 43
  },
  {
   "metadata": {},
   "cell_type": "markdown",
   "source": "### Joining Arrays Using Stack Functions",
   "id": "552fbb8ba89bc3f0"
  },
  {
   "metadata": {
    "ExecuteTime": {
     "end_time": "2025-09-23T17:06:16.063840Z",
     "start_time": "2025-09-23T17:06:16.060186Z"
    }
   },
   "cell_type": "code",
   "source": [
    "a1 = np.array([1,2])\n",
    "a2 = np.array([3,4])\n",
    "a3 = np.stack((a1,a2),axis=1)\n",
    "a3"
   ],
   "id": "d39f59d95d689351",
   "outputs": [
    {
     "data": {
      "text/plain": [
       "array([[1, 3],\n",
       "       [2, 4]])"
      ]
     },
     "execution_count": 44,
     "metadata": {},
     "output_type": "execute_result"
    }
   ],
   "execution_count": 44
  },
  {
   "metadata": {},
   "cell_type": "markdown",
   "source": "NumPy provides a helper function: hstack() to stack along rows.",
   "id": "cb4193eaf67b1ce1"
  },
  {
   "metadata": {
    "ExecuteTime": {
     "end_time": "2025-09-23T17:06:16.212279Z",
     "start_time": "2025-09-23T17:06:16.207955Z"
    }
   },
   "cell_type": "code",
   "source": [
    "a4 = np.hstack((a1,a2))\n",
    "a4"
   ],
   "id": "77f9ee2c2c528962",
   "outputs": [
    {
     "data": {
      "text/plain": [
       "array([1, 2, 3, 4])"
      ]
     },
     "execution_count": 45,
     "metadata": {},
     "output_type": "execute_result"
    }
   ],
   "execution_count": 45
  },
  {
   "metadata": {},
   "cell_type": "markdown",
   "source": "NumPy provides a helper function: vstack()  to stack along columns.",
   "id": "24e774260b23d6f4"
  },
  {
   "metadata": {
    "ExecuteTime": {
     "end_time": "2025-09-23T17:06:16.244463Z",
     "start_time": "2025-09-23T17:06:16.241963Z"
    }
   },
   "cell_type": "code",
   "source": [
    "a5 = np.vstack((a1,a2))\n",
    "a5"
   ],
   "id": "d0baf1da244a514b",
   "outputs": [
    {
     "data": {
      "text/plain": [
       "array([[1, 2],\n",
       "       [3, 4]])"
      ]
     },
     "execution_count": 46,
     "metadata": {},
     "output_type": "execute_result"
    }
   ],
   "execution_count": 46
  },
  {
   "metadata": {
    "ExecuteTime": {
     "end_time": "2025-09-23T17:06:16.299763Z",
     "start_time": "2025-09-23T17:06:16.295224Z"
    }
   },
   "cell_type": "code",
   "source": [
    "a6 = np.dstack((a1,a2))\n",
    "a6"
   ],
   "id": "3b345c20e0534ae2",
   "outputs": [
    {
     "data": {
      "text/plain": [
       "array([[[1, 3],\n",
       "        [2, 4]]])"
      ]
     },
     "execution_count": 47,
     "metadata": {},
     "output_type": "execute_result"
    }
   ],
   "execution_count": 47
  },
  {
   "metadata": {},
   "cell_type": "markdown",
   "source": "### Splitting NumPy Arrays",
   "id": "56c9eb7fe224df1"
  },
  {
   "metadata": {
    "ExecuteTime": {
     "end_time": "2025-09-23T17:06:16.362635Z",
     "start_time": "2025-09-23T17:06:16.359608Z"
    }
   },
   "cell_type": "code",
   "source": [
    "ax = np.array([1,2,3,4,5,6])\n",
    "newone = np.array_split(ax,3)\n",
    "newone"
   ],
   "id": "317d8a5b502ec105",
   "outputs": [
    {
     "data": {
      "text/plain": [
       "[array([1, 2]), array([3, 4]), array([5, 6])]"
      ]
     },
     "execution_count": 48,
     "metadata": {},
     "output_type": "execute_result"
    }
   ],
   "execution_count": 48
  },
  {
   "metadata": {
    "ExecuteTime": {
     "end_time": "2025-09-23T17:06:16.378966Z",
     "start_time": "2025-09-23T17:06:16.376321Z"
    }
   },
   "cell_type": "code",
   "source": "newone[1]",
   "id": "5c776bac4a18a530",
   "outputs": [
    {
     "data": {
      "text/plain": [
       "array([3, 4])"
      ]
     },
     "execution_count": 49,
     "metadata": {},
     "output_type": "execute_result"
    }
   ],
   "execution_count": 49
  },
  {
   "metadata": {},
   "cell_type": "markdown",
   "source": "### Searching Arrays",
   "id": "f20702945d7f89de"
  },
  {
   "metadata": {
    "ExecuteTime": {
     "end_time": "2025-09-23T17:06:16.394302Z",
     "start_time": "2025-09-23T17:06:16.390934Z"
    }
   },
   "cell_type": "code",
   "source": [
    "arx = np.array([1,9, 2, 3, 4, 5, 4, 4])\n",
    "\n",
    "x = np.where(arx == 4)\n",
    "x"
   ],
   "id": "e334e70c0280f88",
   "outputs": [
    {
     "data": {
      "text/plain": [
       "(array([4, 6, 7]),)"
      ]
     },
     "execution_count": 50,
     "metadata": {},
     "output_type": "execute_result"
    }
   ],
   "execution_count": 50
  },
  {
   "metadata": {
    "ExecuteTime": {
     "end_time": "2025-09-23T17:06:16.410031Z",
     "start_time": "2025-09-23T17:06:16.406158Z"
    }
   },
   "cell_type": "code",
   "source": [
    "y = np.where(arx%2 == 0)\n",
    "y"
   ],
   "id": "58227660e13064bd",
   "outputs": [
    {
     "data": {
      "text/plain": [
       "(array([2, 4, 6, 7]),)"
      ]
     },
     "execution_count": 51,
     "metadata": {},
     "output_type": "execute_result"
    }
   ],
   "execution_count": 51
  },
  {
   "metadata": {
    "ExecuteTime": {
     "end_time": "2025-09-23T17:06:16.425434Z",
     "start_time": "2025-09-23T17:06:16.421705Z"
    }
   },
   "cell_type": "code",
   "source": [
    "x = np.searchsorted(arx,3)\n",
    "x"
   ],
   "id": "bcdb364d0873af00",
   "outputs": [
    {
     "data": {
      "text/plain": [
       "np.int64(3)"
      ]
     },
     "execution_count": 52,
     "metadata": {},
     "output_type": "execute_result"
    }
   ],
   "execution_count": 52
  },
  {
   "metadata": {
    "ExecuteTime": {
     "end_time": "2025-09-23T17:06:16.438023Z",
     "start_time": "2025-09-23T17:06:16.434176Z"
    }
   },
   "cell_type": "code",
   "source": [
    "argx = np.array([1, 3, 5, 7])\n",
    "\n",
    "arggx = np.searchsorted(argx, [2, 4, 6])\n",
    "arggx"
   ],
   "id": "375ca72b66ca4b23",
   "outputs": [
    {
     "data": {
      "text/plain": [
       "array([1, 2, 3])"
      ]
     },
     "execution_count": 53,
     "metadata": {},
     "output_type": "execute_result"
    }
   ],
   "execution_count": 53
  },
  {
   "metadata": {
    "ExecuteTime": {
     "end_time": "2025-09-23T17:06:16.452480Z",
     "start_time": "2025-09-23T17:06:16.448837Z"
    }
   },
   "cell_type": "code",
   "source": [
    "argy = np.array([9, 3, 4, 7, 1])\n",
    "\n",
    "np.sort(argy)"
   ],
   "id": "e8545877f5a641d6",
   "outputs": [
    {
     "data": {
      "text/plain": [
       "array([1, 3, 4, 7, 9])"
      ]
     },
     "execution_count": 54,
     "metadata": {},
     "output_type": "execute_result"
    }
   ],
   "execution_count": 54
  },
  {
   "metadata": {},
   "cell_type": "markdown",
   "source": "### Numpy Choice",
   "id": "77fa5306dec709e"
  },
  {
   "metadata": {
    "ExecuteTime": {
     "end_time": "2025-09-23T17:06:16.466597Z",
     "start_time": "2025-09-23T17:06:16.463419Z"
    }
   },
   "cell_type": "code",
   "source": [
    "cho = np.random.choice([1,8,2,3,9,4,5])\n",
    "cho"
   ],
   "id": "256db651315f37d6",
   "outputs": [
    {
     "data": {
      "text/plain": [
       "np.int64(2)"
      ]
     },
     "execution_count": 55,
     "metadata": {},
     "output_type": "execute_result"
    }
   ],
   "execution_count": 55
  },
  {
   "metadata": {
    "ExecuteTime": {
     "end_time": "2025-09-23T17:06:16.480242Z",
     "start_time": "2025-09-23T17:06:16.477502Z"
    }
   },
   "cell_type": "code",
   "source": [
    "cho = np.random.choice([1,8,2,3,9,4,5],(2,2))\n",
    "cho"
   ],
   "id": "ed19ef8e04d440b8",
   "outputs": [
    {
     "data": {
      "text/plain": [
       "array([[9, 1],\n",
       "       [4, 1]])"
      ]
     },
     "execution_count": 56,
     "metadata": {},
     "output_type": "execute_result"
    }
   ],
   "execution_count": 56
  },
  {
   "metadata": {},
   "cell_type": "markdown",
   "source": "The probability is set by a number between 0 and 1, where 0 means that the value will never occur and 1 means that the value will always occur.",
   "id": "4b14311e1228010b"
  },
  {
   "metadata": {
    "ExecuteTime": {
     "end_time": "2025-09-23T17:06:16.525596Z",
     "start_time": "2025-09-23T17:06:16.522178Z"
    }
   },
   "cell_type": "code",
   "source": [
    "cho1 = np.random.choice([1,8,2,3], p = [0.4, 0.3, 0.3, 0.0], size=5)\n",
    "cho1\n"
   ],
   "id": "a32986581e6162ad",
   "outputs": [
    {
     "data": {
      "text/plain": [
       "array([2, 1, 8, 2, 1])"
      ]
     },
     "execution_count": 57,
     "metadata": {},
     "output_type": "execute_result"
    }
   ],
   "execution_count": 57
  },
  {
   "metadata": {},
   "cell_type": "markdown",
   "source": "### Shuffling Arrays",
   "id": "e253976819801f8"
  },
  {
   "metadata": {},
   "cell_type": "markdown",
   "source": "Shuffle means changing arrangement of elements in-place. i.e. in the array itself.",
   "id": "38f244fe5378605a"
  },
  {
   "metadata": {
    "ExecuteTime": {
     "end_time": "2025-09-23T17:06:16.598593Z",
     "start_time": "2025-09-23T17:06:16.595889Z"
    }
   },
   "cell_type": "code",
   "source": [
    "ax1 = np.array([1,2,3,4,5,6])\n",
    "shf = np.random.shuffle(ax1)\n",
    "print(ax1)\n",
    "\n",
    "print(np.random.permutation(ax1))"
   ],
   "id": "186fd1b28d97a7c0",
   "outputs": [
    {
     "name": "stdout",
     "output_type": "stream",
     "text": [
      "[2 3 1 5 6 4]\n",
      "[2 6 4 1 3 5]\n"
     ]
    }
   ],
   "execution_count": 58
  },
  {
   "metadata": {},
   "cell_type": "markdown",
   "source": "The permutation() method returns a re-arranged array (and leaves the original array un-changed).",
   "id": "32649ee57c6b863"
  },
  {
   "metadata": {},
   "cell_type": "markdown",
   "source": "## Seaborn",
   "id": "53a99d96d576d4cc"
  },
  {
   "metadata": {},
   "cell_type": "markdown",
   "source": "Seaborn is a library that uses Matplotlib underneath to plot graphs. It will be used to visualize random distributions.",
   "id": "8a012e77254bdc7b"
  },
  {
   "metadata": {
    "ExecuteTime": {
     "end_time": "2025-09-23T17:06:16.614808Z",
     "start_time": "2025-09-23T17:06:16.612507Z"
    }
   },
   "cell_type": "code",
   "source": "import matplotlib.pyplot as plt",
   "id": "cca2743a41b938c9",
   "outputs": [],
   "execution_count": 59
  },
  {
   "metadata": {
    "ExecuteTime": {
     "end_time": "2025-09-23T17:06:16.630482Z",
     "start_time": "2025-09-23T17:06:16.627710Z"
    }
   },
   "cell_type": "code",
   "source": "import seaborn as sns",
   "id": "fc1f89e931569129",
   "outputs": [],
   "execution_count": 60
  },
  {
   "metadata": {
    "ExecuteTime": {
     "end_time": "2025-09-23T17:06:16.785786Z",
     "start_time": "2025-09-23T17:06:16.636403Z"
    }
   },
   "cell_type": "code",
   "source": [
    "sns.displot([0, 1, 2, 3, 4, 5])\n",
    "\n",
    "plt.show()"
   ],
   "id": "da8ca3f56a6c6e2f",
   "outputs": [
    {
     "data": {
      "text/plain": [
       "<Figure size 500x500 with 1 Axes>"
      ],
      "image/png": "[encoded data removed]"
     },
     "metadata": {},
     "output_type": "display_data",
     "jetTransient": {
      "display_id": null
     }
    }
   ],
   "execution_count": 61
  },
  {
   "metadata": {
    "ExecuteTime": {
     "end_time": "2025-09-23T17:06:16.906928Z",
     "start_time": "2025-09-23T17:06:16.797622Z"
    }
   },
   "cell_type": "code",
   "source": [
    "sns.displot([0, 1, 2, 3, 4, 5], kind='kde')\n",
    "\n",
    "plt.show()"
   ],
   "id": "a5191c5d914ca4d2",
   "outputs": [
    {
     "data": {
      "text/plain": [
       "<Figure size 500x500 with 1 Axes>"
      ],
      "image/png": "[encoded data removed]"
     },
     "metadata": {},
     "output_type": "display_data",
     "jetTransient": {
      "display_id": null
     }
    }
   ],
   "execution_count": 62
  },
  {
   "metadata": {},
   "cell_type": "markdown",
   "source": "Use the random.normal() method to get a Normal Data Distribution.",
   "id": "103a1edd4b364967"
  },
  {
   "metadata": {
    "ExecuteTime": {
     "end_time": "2025-09-23T17:06:16.923587Z",
     "start_time": "2025-09-23T17:06:16.919822Z"
    }
   },
   "cell_type": "code",
   "source": [
    "normal = np.random.normal(size=(2, 2))\n",
    "normal"
   ],
   "id": "fb60557bfb32b9cc",
   "outputs": [
    {
     "data": {
      "text/plain": [
       "array([[ 1.12087054, -0.63392124],\n",
       "       [-0.60180424, -1.33249991]])"
      ]
     },
     "execution_count": 63,
     "metadata": {},
     "output_type": "execute_result"
    }
   ],
   "execution_count": 63
  },
  {
   "metadata": {},
   "cell_type": "markdown",
   "source": [
    "loc - (Mean) where the peak of the bell exists.\n",
    "\n",
    "scale - (Standard Deviation) how flat the graph distribution should be.\n",
    "\n",
    "size - The shape of the returned array."
   ],
   "id": "1dc1fbceea0dcec6"
  },
  {
   "metadata": {
    "ExecuteTime": {
     "end_time": "2025-09-23T17:06:16.969468Z",
     "start_time": "2025-09-23T17:06:16.966195Z"
    }
   },
   "cell_type": "code",
   "source": [
    "normalScale = np.random.normal(loc=50, scale=10, size=5)\n",
    "normalScale"
   ],
   "id": "3d8757fd1f345222",
   "outputs": [
    {
     "data": {
      "text/plain": [
       "array([44.36558077, 42.27761655, 51.36349325, 52.39348122, 43.47748113])"
      ]
     },
     "execution_count": 64,
     "metadata": {},
     "output_type": "execute_result"
    }
   ],
   "execution_count": 64
  },
  {
   "metadata": {
    "ExecuteTime": {
     "end_time": "2025-09-23T17:06:17.143750Z",
     "start_time": "2025-09-23T17:06:17.036983Z"
    }
   },
   "cell_type": "code",
   "source": [
    "sns.displot(normalScale, kind='kde')\n",
    "\n",
    "plt.show()"
   ],
   "id": "5a2fcb9a5f80b953",
   "outputs": [
    {
     "data": {
      "text/plain": [
       "<Figure size 500x500 with 1 Axes>"
      ],
      "image/png": "[encoded data removed]"
     },
     "metadata": {},
     "output_type": "display_data",
     "jetTransient": {
      "display_id": null
     }
    }
   ],
   "execution_count": 65
  }
 ],
 "metadata": {
  "kernelspec": {
   "display_name": "Python 3",
   "language": "python",
   "name": "python3"
  },
  "language_info": {
   "codemirror_mode": {
    "name": "ipython",
    "version": 2
   },
   "file_extension": ".py",
   "mimetype": "text/x-python",
   "name": "python",
   "nbconvert_exporter": "python",
   "pygments_lexer": "ipython2",
   "version": "2.7.6"
  }
 },
 "nbformat": 4,
 "nbformat_minor": 5
}
